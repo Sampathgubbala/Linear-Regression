{
 "cells": [
  {
   "cell_type": "code",
   "execution_count": 25,
   "metadata": {},
   "outputs": [],
   "source": [
    "import pandas as pd\n",
    "import numpy as np\n",
    "import matplotlib.pyplot as plt\n",
    "import seaborn as sns\n",
    "%matplotlib inline\n",
    "import sklearn.metrics as metrics"
   ]
  },
  {
   "cell_type": "code",
   "execution_count": 26,
   "metadata": {},
   "outputs": [
    {
     "data": {
      "text/html": [
       "<div>\n",
       "<style scoped>\n",
       "    .dataframe tbody tr th:only-of-type {\n",
       "        vertical-align: middle;\n",
       "    }\n",
       "\n",
       "    .dataframe tbody tr th {\n",
       "        vertical-align: top;\n",
       "    }\n",
       "\n",
       "    .dataframe thead th {\n",
       "        text-align: right;\n",
       "    }\n",
       "</style>\n",
       "<table border=\"1\" class=\"dataframe\">\n",
       "  <thead>\n",
       "    <tr style=\"text-align: right;\">\n",
       "      <th></th>\n",
       "      <th>MWG</th>\n",
       "      <th>NWG</th>\n",
       "      <th>KWG</th>\n",
       "      <th>MDIMC</th>\n",
       "      <th>NDIMC</th>\n",
       "      <th>MDIMA</th>\n",
       "      <th>NDIMB</th>\n",
       "      <th>KWI</th>\n",
       "      <th>VWM</th>\n",
       "      <th>VWN</th>\n",
       "      <th>STRM</th>\n",
       "      <th>STRN</th>\n",
       "      <th>SA</th>\n",
       "      <th>SB</th>\n",
       "      <th>avg</th>\n",
       "    </tr>\n",
       "  </thead>\n",
       "  <tbody>\n",
       "    <tr>\n",
       "      <td>0</td>\n",
       "      <td>16</td>\n",
       "      <td>16</td>\n",
       "      <td>16</td>\n",
       "      <td>8</td>\n",
       "      <td>8</td>\n",
       "      <td>8</td>\n",
       "      <td>8</td>\n",
       "      <td>2</td>\n",
       "      <td>1</td>\n",
       "      <td>1</td>\n",
       "      <td>0</td>\n",
       "      <td>0</td>\n",
       "      <td>0</td>\n",
       "      <td>0</td>\n",
       "      <td>116.3700</td>\n",
       "    </tr>\n",
       "    <tr>\n",
       "      <td>1</td>\n",
       "      <td>16</td>\n",
       "      <td>16</td>\n",
       "      <td>16</td>\n",
       "      <td>8</td>\n",
       "      <td>8</td>\n",
       "      <td>8</td>\n",
       "      <td>8</td>\n",
       "      <td>2</td>\n",
       "      <td>1</td>\n",
       "      <td>1</td>\n",
       "      <td>0</td>\n",
       "      <td>0</td>\n",
       "      <td>0</td>\n",
       "      <td>1</td>\n",
       "      <td>78.7050</td>\n",
       "    </tr>\n",
       "    <tr>\n",
       "      <td>2</td>\n",
       "      <td>16</td>\n",
       "      <td>16</td>\n",
       "      <td>16</td>\n",
       "      <td>8</td>\n",
       "      <td>8</td>\n",
       "      <td>8</td>\n",
       "      <td>8</td>\n",
       "      <td>2</td>\n",
       "      <td>1</td>\n",
       "      <td>1</td>\n",
       "      <td>0</td>\n",
       "      <td>0</td>\n",
       "      <td>1</td>\n",
       "      <td>0</td>\n",
       "      <td>80.5650</td>\n",
       "    </tr>\n",
       "    <tr>\n",
       "      <td>3</td>\n",
       "      <td>16</td>\n",
       "      <td>16</td>\n",
       "      <td>16</td>\n",
       "      <td>8</td>\n",
       "      <td>8</td>\n",
       "      <td>8</td>\n",
       "      <td>8</td>\n",
       "      <td>2</td>\n",
       "      <td>1</td>\n",
       "      <td>1</td>\n",
       "      <td>0</td>\n",
       "      <td>0</td>\n",
       "      <td>1</td>\n",
       "      <td>1</td>\n",
       "      <td>86.6375</td>\n",
       "    </tr>\n",
       "    <tr>\n",
       "      <td>4</td>\n",
       "      <td>16</td>\n",
       "      <td>16</td>\n",
       "      <td>16</td>\n",
       "      <td>8</td>\n",
       "      <td>8</td>\n",
       "      <td>8</td>\n",
       "      <td>8</td>\n",
       "      <td>2</td>\n",
       "      <td>1</td>\n",
       "      <td>1</td>\n",
       "      <td>0</td>\n",
       "      <td>1</td>\n",
       "      <td>0</td>\n",
       "      <td>0</td>\n",
       "      <td>118.6625</td>\n",
       "    </tr>\n",
       "    <tr>\n",
       "      <td>...</td>\n",
       "      <td>...</td>\n",
       "      <td>...</td>\n",
       "      <td>...</td>\n",
       "      <td>...</td>\n",
       "      <td>...</td>\n",
       "      <td>...</td>\n",
       "      <td>...</td>\n",
       "      <td>...</td>\n",
       "      <td>...</td>\n",
       "      <td>...</td>\n",
       "      <td>...</td>\n",
       "      <td>...</td>\n",
       "      <td>...</td>\n",
       "      <td>...</td>\n",
       "      <td>...</td>\n",
       "    </tr>\n",
       "    <tr>\n",
       "      <td>2995</td>\n",
       "      <td>16</td>\n",
       "      <td>32</td>\n",
       "      <td>16</td>\n",
       "      <td>16</td>\n",
       "      <td>8</td>\n",
       "      <td>16</td>\n",
       "      <td>32</td>\n",
       "      <td>8</td>\n",
       "      <td>1</td>\n",
       "      <td>1</td>\n",
       "      <td>0</td>\n",
       "      <td>0</td>\n",
       "      <td>1</td>\n",
       "      <td>1</td>\n",
       "      <td>49.0175</td>\n",
       "    </tr>\n",
       "    <tr>\n",
       "      <td>2996</td>\n",
       "      <td>16</td>\n",
       "      <td>32</td>\n",
       "      <td>16</td>\n",
       "      <td>16</td>\n",
       "      <td>8</td>\n",
       "      <td>16</td>\n",
       "      <td>32</td>\n",
       "      <td>8</td>\n",
       "      <td>1</td>\n",
       "      <td>1</td>\n",
       "      <td>0</td>\n",
       "      <td>1</td>\n",
       "      <td>0</td>\n",
       "      <td>0</td>\n",
       "      <td>120.6825</td>\n",
       "    </tr>\n",
       "    <tr>\n",
       "      <td>2997</td>\n",
       "      <td>16</td>\n",
       "      <td>32</td>\n",
       "      <td>16</td>\n",
       "      <td>16</td>\n",
       "      <td>8</td>\n",
       "      <td>16</td>\n",
       "      <td>32</td>\n",
       "      <td>8</td>\n",
       "      <td>1</td>\n",
       "      <td>1</td>\n",
       "      <td>0</td>\n",
       "      <td>1</td>\n",
       "      <td>0</td>\n",
       "      <td>1</td>\n",
       "      <td>62.7900</td>\n",
       "    </tr>\n",
       "    <tr>\n",
       "      <td>2998</td>\n",
       "      <td>16</td>\n",
       "      <td>32</td>\n",
       "      <td>16</td>\n",
       "      <td>16</td>\n",
       "      <td>8</td>\n",
       "      <td>16</td>\n",
       "      <td>32</td>\n",
       "      <td>8</td>\n",
       "      <td>1</td>\n",
       "      <td>1</td>\n",
       "      <td>0</td>\n",
       "      <td>1</td>\n",
       "      <td>1</td>\n",
       "      <td>0</td>\n",
       "      <td>102.4525</td>\n",
       "    </tr>\n",
       "    <tr>\n",
       "      <td>2999</td>\n",
       "      <td>16</td>\n",
       "      <td>32</td>\n",
       "      <td>16</td>\n",
       "      <td>16</td>\n",
       "      <td>8</td>\n",
       "      <td>16</td>\n",
       "      <td>32</td>\n",
       "      <td>8</td>\n",
       "      <td>1</td>\n",
       "      <td>1</td>\n",
       "      <td>0</td>\n",
       "      <td>1</td>\n",
       "      <td>1</td>\n",
       "      <td>1</td>\n",
       "      <td>56.9100</td>\n",
       "    </tr>\n",
       "  </tbody>\n",
       "</table>\n",
       "<p>3000 rows × 15 columns</p>\n",
       "</div>"
      ],
      "text/plain": [
       "      MWG  NWG  KWG  MDIMC  NDIMC  MDIMA  NDIMB  KWI  VWM  VWN  STRM  STRN  \\\n",
       "0      16   16   16      8      8      8      8    2    1    1     0     0   \n",
       "1      16   16   16      8      8      8      8    2    1    1     0     0   \n",
       "2      16   16   16      8      8      8      8    2    1    1     0     0   \n",
       "3      16   16   16      8      8      8      8    2    1    1     0     0   \n",
       "4      16   16   16      8      8      8      8    2    1    1     0     1   \n",
       "...   ...  ...  ...    ...    ...    ...    ...  ...  ...  ...   ...   ...   \n",
       "2995   16   32   16     16      8     16     32    8    1    1     0     0   \n",
       "2996   16   32   16     16      8     16     32    8    1    1     0     1   \n",
       "2997   16   32   16     16      8     16     32    8    1    1     0     1   \n",
       "2998   16   32   16     16      8     16     32    8    1    1     0     1   \n",
       "2999   16   32   16     16      8     16     32    8    1    1     0     1   \n",
       "\n",
       "      SA  SB       avg  \n",
       "0      0   0  116.3700  \n",
       "1      0   1   78.7050  \n",
       "2      1   0   80.5650  \n",
       "3      1   1   86.6375  \n",
       "4      0   0  118.6625  \n",
       "...   ..  ..       ...  \n",
       "2995   1   1   49.0175  \n",
       "2996   0   0  120.6825  \n",
       "2997   0   1   62.7900  \n",
       "2998   1   0  102.4525  \n",
       "2999   1   1   56.9100  \n",
       "\n",
       "[3000 rows x 15 columns]"
      ]
     },
     "execution_count": 26,
     "metadata": {},
     "output_type": "execute_result"
    }
   ],
   "source": [
    "df=pd.read_csv('Desktop/2nd Sem/ML/Projects 1/sgemm_product_dataset/sgemm_product.csv')\n",
    "df = df.iloc[0:3000, :]\n",
    "\n",
    "#finding the average of run time\n",
    "df['avg'] = df.iloc[0: ,14:].mean(axis=1) \n",
    "\n",
    "#droping the run values\n",
    "df.drop(['Run1 (ms)','Run2 (ms)','Run3 (ms)','Run4 (ms)'],axis=1,inplace=True) \n",
    "df"
   ]
  },
  {
   "cell_type": "code",
   "execution_count": 27,
   "metadata": {},
   "outputs": [],
   "source": [
    "# defining feature matrix(X) and response vector(y) \n",
    "X = df.iloc[:, 0:14]\n",
    "y = df[\"avg\"]\n",
    "  \n",
    "\n",
    "\n",
    "# splitting X and y into training and testing sets \n",
    "from sklearn.model_selection import train_test_split \n",
    "from sklearn.linear_model import LinearRegression\n",
    "x_train, x_test, y_train, y_test = train_test_split(X, y, test_size=0.3, \n",
    "                                                    random_state=1) \n",
    "\n",
    "from sklearn.preprocessing import StandardScaler\n",
    "scaler = StandardScaler()\n",
    "x_train = scaler.fit_transform(X_train)\n",
    "\n",
    "x_test = scaler.fit_transform(X_test)\n",
    "one_column = np.ones((X_test.shape[0],1))\n",
    "x_test = np.concatenate((one_column, X_test), axis = 1)\n",
    "\n",
    "y_test = np.array(y_test).reshape((y_test.shape[0],1))"
   ]
  },
  {
   "cell_type": "code",
   "execution_count": 28,
   "metadata": {},
   "outputs": [],
   "source": [
    "#cost function\n",
    "def costFunction(x_train,y_train,theta):       \n",
    "    error = (x_train@theta.T)-y_train\n",
    "    cost=(0.5/len(x_train))*np.sum(np.power(error,2))\n",
    "    return cost"
   ]
  },
  {
   "cell_type": "code",
   "execution_count": 29,
   "metadata": {},
   "outputs": [],
   "source": [
    "def testing_costFunction(x_test, y_test, theta):\n",
    "    x_test = scaler.fit_transform(x_test)\n",
    "    one_column = np.ones((x_test.shape[0],1))\n",
    "    x_test = np.concatenate((one_column, x_test), axis = 1)"
   ]
  },
  {
   "cell_type": "code",
   "execution_count": 30,
   "metadata": {},
   "outputs": [],
   "source": [
    "# gradient descent algorithm\n",
    "def gradientDescent(X,y,theta,iterations,alpha, check_tol ,tolerance):\n",
    "    cost_train = []\n",
    "    cost_test = []\n",
    "    for i in range(iterations):\n",
    "        theta = theta - (alpha/len(X)) * np.sum(X * (X @ theta.T - y), axis=0)\n",
    "        cost = costFunction(X, y, theta)\n",
    "        cost_train.append(cost)\n",
    "        \n",
    "        cost = costFunction(X_test, y_test, theta)\n",
    "        cost_test.append(cost)\n",
    "        \n",
    "        if check_tol:\n",
    "            if (i>0) and(abs((cost_train[i]-cost_train[i-1])/cost_train[i-1]) < tolerance).any():\n",
    "                print(\"Gradient Descent algorithm converged after\", i+1, \"Iterations\")\n",
    "                break\n",
    "            \n",
    "    \n",
    "    return theta,cost_train, cost_test"
   ]
  },
  {
   "cell_type": "code",
   "execution_count": 31,
   "metadata": {},
   "outputs": [],
   "source": [
    "def linear_regression(X, y, alpha, iterations,check_tol=False, tolerance=10**-4):\n",
    "    n = X.shape[1]\n",
    "    one_column = np.ones((X.shape[0],1))\n",
    "    X = np.concatenate((one_column, X), axis = 1)\n",
    "    theta = np.zeros((1,n+1))\n",
    "    y = np.array(y).reshape((y.shape[0],1))\n",
    "    theta, cost_train, cost_test = gradientDescent(X,y,theta,iterations,alpha, check_tol,tolerance)\n",
    "    \n",
    "    return theta,cost_train, cost_test"
   ]
  },
  {
   "cell_type": "code",
   "execution_count": 32,
   "metadata": {},
   "outputs": [],
   "source": [
    "def test(X_test,theta):\n",
    "    return X_test@theta.T"
   ]
  },
  {
   "cell_type": "code",
   "execution_count": 70,
   "metadata": {},
   "outputs": [],
   "source": [
    "def rmse_function(X, y,theta, param):\n",
    "    #one_column = np.ones((X.shape[0],1))\n",
    "    #data_set = np.concatenate((one_column, X), axis = 1)\n",
    "    \n",
    "    y_prediction = []\n",
    "    for i in range(len(param)):\n",
    "        y_pred = test(data_set,theta[i])\n",
    "        y_prediction.append(y_pred)\n",
    "    \n",
    "    rmse_val = []\n",
    "    for i in range(len(param)):\n",
    "        rmse = np.sqrt(metrics.mean_squared_error(y, y_prediction[i]))\n",
    "        rmse_val.append(rmse)\n",
    "    \n",
    "    return rmse_val"
   ]
  },
  {
   "cell_type": "code",
   "execution_count": 34,
   "metadata": {},
   "outputs": [
    {
     "name": "stdout",
     "output_type": "stream",
     "text": [
      "\n",
      "######---- Iteration with alpha value 0.0001 -----#####\n",
      "\n",
      "######---- Iteration with alpha value 0.001 -----#####\n",
      "\n",
      "######---- Iteration with alpha value 0.01 -----#####\n",
      "\n",
      "######---- Iteration with alpha value 0.1 -----#####\n"
     ]
    }
   ],
   "source": [
    "alpha_values = [0.0001, 0.001, 0.01, 0.1]\n",
    "\n",
    "alpha_train_theta = []\n",
    "alpha_train_cost = []\n",
    "\n",
    "alpha_test_cost = []\n",
    "\n",
    "\n",
    "for i in range(len(alpha_values)):\n",
    "    print(\"\\n######---- Iteration with alpha value\", alpha_values[i],\"-----#####\")\n",
    "    \n",
    "    theta, trainCost, testCost = linear_regression(x_train, y_train, alpha_values[i], 10000, False)\n",
    "    \n",
    "    alpha_train_theta.append(theta)\n",
    "    alpha_train_cost.append(trainCost)\n",
    "    \n",
    "    alpha_test_cost.append(testCost)"
   ]
  },
  {
   "cell_type": "code",
   "execution_count": 35,
   "metadata": {
    "scrolled": false
   },
   "outputs": [
    {
     "data": {
      "image/png": "[encoded data removed]",
      "text/plain": [
       "<Figure size 720x504 with 4 Axes>"
      ]
     },
     "metadata": {
      "needs_background": "light"
     },
     "output_type": "display_data"
    }
   ],
   "source": [
    "##### Plot for Cost vs Iterations for Each Alpha\n",
    "\n",
    "fig = plt.figure(figsize=(10,7))\n",
    "\n",
    "ax1 = fig.add_subplot(2,2,1)\n",
    "\n",
    "ax1.plot(range(len(alpha_train_cost[0])),alpha_train_cost[0],'-b', label=\"Train\")\n",
    "ax1.plot(range(len(alpha_test_cost[0])),alpha_test_cost[0],'-r', label=\"Test\")\n",
    "ax1.legend(loc=\"upper right\")\n",
    "ax1.set_title(\"Cost vs Iterations for Alpha = 0.0001\")\n",
    "ax1.set_ylabel(\"Cost\")\n",
    "ax1.set_xlabel(\"Iterations\")\n",
    "ax1.set_xticks(list(range(0,11000, 1000)))\n",
    "plt.xticks(rotation=90)\n",
    "\n",
    "ax1 = fig.add_subplot(2,2,2)\n",
    "\n",
    "ax1.plot(range(len(alpha_train_cost[1])),alpha_train_cost[1],'-b', label=\"Train\")\n",
    "ax1.plot(range(len(alpha_test_cost[1])),alpha_test_cost[1],'-r', label=\"Test\")\n",
    "ax1.legend(loc=\"upper right\")\n",
    "ax1.set_title(\"Cost vs Iterations for Alpha = 0.001\")\n",
    "ax1.set_ylabel(\"Cost\")\n",
    "ax1.set_xlabel(\"Iterations\")\n",
    "ax1.set_xticks(list(range(0,11000, 1000)))\n",
    "plt.xticks(rotation=90)\n",
    "\n",
    "\n",
    "ax1 = fig.add_subplot(2,2,3)\n",
    "\n",
    "ax1.plot(range(len(alpha_train_cost[2])),alpha_train_cost[2],'-b', label=\"Train\")\n",
    "ax1.plot(range(len(alpha_test_cost[2])),alpha_test_cost[2],'-r', label=\"Test\")\n",
    "ax1.legend(loc=\"upper right\")\n",
    "ax1.set_title(\"Cost vs Iterations for Alpha = 0.01\")\n",
    "ax1.set_ylabel(\"Cost\")\n",
    "ax1.set_xlabel(\"Iterations\")\n",
    "ax1.set_xticks(list(range(0,11000, 1000)))\n",
    "plt.xticks(rotation=90)\n",
    "\n",
    "ax1 = fig.add_subplot(2,2,4)\n",
    "\n",
    "ax1.plot(range(len(alpha_train_cost[3])),alpha_train_cost[3],'-b', label=\"Train\")\n",
    "ax1.plot(range(len(alpha_test_cost[3])),alpha_test_cost[3],'-r', label=\"Test\")\n",
    "ax1.legend(loc=\"upper right\")\n",
    "ax1.set_title(\"Cost vs Iterations for Alpha = 0.1\")\n",
    "ax1.set_ylabel(\"Cost\")\n",
    "ax1.set_xlabel(\"Iterations\")\n",
    "ax1.set_xticks(list(range(0,11000, 1000)))\n",
    "plt.xticks(rotation=90)\n",
    "\n",
    "fig.tight_layout()\n",
    "plt.show()"
   ]
  },
  {
   "cell_type": "markdown",
   "metadata": {},
   "source": [
    "#2\n"
   ]
  },
  {
   "cell_type": "code",
   "execution_count": 46,
   "metadata": {},
   "outputs": [
    {
     "name": "stdout",
     "output_type": "stream",
     "text": [
      "\n",
      "######---- Iteration with tolerance value 1e-07 -----#####\n",
      "Gradient Descent algorithm converged after 159 Iterations\n",
      "\n",
      "######---- Iteration with tolerance value 1e-06 -----#####\n",
      "Gradient Descent algorithm converged after 124 Iterations\n",
      "\n",
      "######---- Iteration with tolerance value 1e-05 -----#####\n",
      "Gradient Descent algorithm converged after 90 Iterations\n",
      "\n",
      "######---- Iteration with tolerance value 0.0001 -----#####\n",
      "Gradient Descent algorithm converged after 64 Iterations\n",
      "\n",
      "######---- Iteration with tolerance value 0.001 -----#####\n",
      "Gradient Descent algorithm converged after 47 Iterations\n",
      "\n",
      "######---- Iteration with tolerance value 0.01 -----#####\n",
      "Gradient Descent algorithm converged after 34 Iterations\n"
     ]
    }
   ],
   "source": [
    "alpha = 0.1\n",
    "tol_val = [10**-7, 10**-6, 10**-5, 10**-4, 10**-3, 10**-2]\n",
    "tol_train_theta = []\n",
    "tol_train_cost = []\n",
    "\n",
    "tol_test_cost = []\n",
    "\n",
    "\n",
    "for i in range(len(tol_val)):\n",
    "    print(\"\\n######---- Iteration with tolerance value\", tol_val[i],\"-----#####\")\n",
    "    \n",
    "    theta, trainCost, testCost = linear_regression(X_train, y_train, alpha, 10000, True, tol_val[i])\n",
    "    \n",
    "    tol_train_theta.append(theta)\n",
    "    tol_train_cost.append(trainCost)\n",
    "    \n",
    "    tol_test_cost.append(testCost)"
   ]
  },
  {
   "cell_type": "code",
   "execution_count": 47,
   "metadata": {},
   "outputs": [],
   "source": [
    "# Prediction for Train and RMSE Train\n",
    "\n",
    "one_column = np.ones((X_train.shape[0],1))\n",
    "training_set = np.concatenate((one_column, X_train), axis = 1)\n",
    "\n",
    "y_prediction = []\n",
    "for i in range(len(tol_val)):\n",
    "    y_pred = test(training_set,tol_train_theta[i])\n",
    "    y_prediction.append(y_pred)\n",
    "    \n",
    "\n",
    "from sklearn import metrics\n",
    "tol_rmse_train = []\n",
    "for i in range(len(tol_val)):\n",
    "    rmse = np.sqrt(metrics.mean_squared_error(y_train, y_prediction[i]))\n",
    "    tol_rmse_train.append(rmse)"
   ]
  },
  {
   "cell_type": "code",
   "execution_count": 48,
   "metadata": {},
   "outputs": [],
   "source": [
    "#### Prediction for Test and RMSE\n",
    "\n",
    "y_prediction = []\n",
    "for i in range(len(tol_val)):\n",
    "    y_pred = test(X_test,tol_train_theta[i])\n",
    "    y_prediction.append(y_pred)\n",
    "    \n",
    "\n",
    "from sklearn import metrics\n",
    "tol_rmse_test = []\n",
    "for i in range(len(tol_val)):\n",
    "    rmse = np.sqrt(metrics.mean_squared_error(y_test, y_prediction[i]))\n",
    "    tol_rmse_test.append(rmse)"
   ]
  },
  {
   "cell_type": "code",
   "execution_count": 49,
   "metadata": {},
   "outputs": [
    {
     "data": {
      "image/png": "[encoded data removed]",
      "text/plain": [
       "<Figure size 720x504 with 1 Axes>"
      ]
     },
     "metadata": {
      "needs_background": "light"
     },
     "output_type": "display_data"
    }
   ],
   "source": [
    "fig = plt.figure(figsize = (10,7))\n",
    "\n",
    "rmse_plot = fig.add_subplot(1,1,1)\n",
    "\n",
    "rmse_plot.plot(np.log10(tol_val),tol_rmse_train,'-b', label='RMSE_Train')\n",
    "rmse_plot.plot(np.log10(tol_val, ),tol_rmse_test,'-r', label='RMSE_Test')\n",
    "rmse_plot.legend(loc=\"upper right\")\n",
    "#rmse_plot.set_title(\"Cost vs Iterations for Test\")\n",
    "rmse_plot.set_ylabel(\"RMSE\")\n",
    "rmse_plot.set_xlabel(\"Log(Tolerance Value)\")\n",
    "#rmse_plot.set_xlim([0.001,1])\n",
    "plt.show()"
   ]
  },
  {
   "cell_type": "code",
   "execution_count": 50,
   "metadata": {},
   "outputs": [
    {
     "name": "stdout",
     "output_type": "stream",
     "text": [
      "The best tolerance value is 10^-4\n"
     ]
    }
   ],
   "source": [
    "print(\"The best tolerance value is 10^-4\")"
   ]
  },
  {
   "cell_type": "code",
   "execution_count": 51,
   "metadata": {},
   "outputs": [
    {
     "name": "stdout",
     "output_type": "stream",
     "text": [
      "\n",
      "######---- Iteration =  10 -----#####\n",
      "\n",
      "######---- Iteration =  30 -----#####\n",
      "\n",
      "######---- Iteration =  50 -----#####\n",
      "\n",
      "######---- Iteration =  70 -----#####\n",
      "\n",
      "######---- Iteration =  90 -----#####\n",
      "\n",
      "######---- Iteration =  110 -----#####\n",
      "\n",
      "######---- Iteration =  130 -----#####\n",
      "\n",
      "######---- Iteration =  150 -----#####\n",
      "\n",
      "######---- Iteration =  170 -----#####\n",
      "\n",
      "######---- Iteration =  190 -----#####\n"
     ]
    }
   ],
   "source": [
    "iters = list(range(10, 200, 20))\n",
    "iter_train_theta = []\n",
    "iter_train_cost = []\n",
    "\n",
    "iter_test_cost = []\n",
    "\n",
    "\n",
    "for i in range(len(iters)):\n",
    "    print(\"\\n######---- Iteration = \", iters[i],\"-----#####\")\n",
    "    \n",
    "    theta, trainCost, testCost = linear_regression(X_train, y_train, 0.1, iters[i], False, 10**-4)\n",
    "    \n",
    "    iter_train_theta.append(theta)\n",
    "    iter_train_cost.append(trainCost)\n",
    "    \n",
    "    iter_test_cost.append(testCost)"
   ]
  },
  {
   "cell_type": "code",
   "execution_count": 52,
   "metadata": {},
   "outputs": [],
   "source": [
    "# Prediction for Train and RMSE Train\n",
    "\n",
    "one_column = np.ones((X_train.shape[0],1))\n",
    "training_set = np.concatenate((one_column, X_train), axis = 1)\n",
    "\n",
    "y_prediction = []\n",
    "for i in range(len(iters)):\n",
    "    y_pred = test(training_set,iter_train_theta[i])\n",
    "    y_prediction.append(y_pred)\n",
    "    \n",
    "\n",
    "\n",
    "iter_rmse_train = []\n",
    "for i in range(len(iters)):\n",
    "    rmse = np.sqrt(metrics.mean_squared_error(y_train, y_prediction[i]))\n",
    "    iter_rmse_train.append(rmse)"
   ]
  },
  {
   "cell_type": "code",
   "execution_count": 53,
   "metadata": {},
   "outputs": [],
   "source": [
    "#### Prediction for Test and RMSE\n",
    "\n",
    "y_prediction = []\n",
    "for i in range(len(iters)):\n",
    "    y_pred = test(X_test,iter_train_theta[i])\n",
    "    y_prediction.append(y_pred)\n",
    "    \n",
    "\n",
    "from sklearn import metrics\n",
    "iter_rmse_test = []\n",
    "for i in range(len(iters)):\n",
    "    rmse = np.sqrt(metrics.mean_squared_error(y_test, y_prediction[i]))\n",
    "    iter_rmse_test.append(rmse)"
   ]
  },
  {
   "cell_type": "code",
   "execution_count": 54,
   "metadata": {},
   "outputs": [
    {
     "data": {
      "image/png": "[encoded data removed]",
      "text/plain": [
       "<Figure size 720x504 with 1 Axes>"
      ]
     },
     "metadata": {
      "needs_background": "light"
     },
     "output_type": "display_data"
    }
   ],
   "source": [
    "fig = plt.figure(figsize = (10,7))\n",
    "\n",
    "rmse_plot = fig.add_subplot(1,1,1)\n",
    "\n",
    "rmse_plot.plot(iters,iter_rmse_train,'-b', label='RMSE_Train')\n",
    "rmse_plot.plot(iters,iter_rmse_test,'-r', label='RMSE_Test')\n",
    "rmse_plot.legend(loc=\"upper right\")\n",
    "rmse_plot.set_title(\"RMSE vs Iterations\")\n",
    "rmse_plot.set_ylabel(\"RMSE\")\n",
    "rmse_plot.set_xlabel(\"Iterations\")\n",
    "rmse_plot.set_xticks(list(range(0,200, 20)))\n",
    "plt.xticks(rotation=90)\n",
    "plt.show()"
   ]
  },
  {
   "cell_type": "markdown",
   "metadata": {},
   "source": [
    "Q3"
   ]
  },
  {
   "cell_type": "code",
   "execution_count": 55,
   "metadata": {},
   "outputs": [
    {
     "name": "stdout",
     "output_type": "stream",
     "text": [
      "[10, 9, 11, 7, 12, 6, 1, 2]\n"
     ]
    },
    {
     "ename": "NameError",
     "evalue": "name 'gpu' is not defined",
     "output_type": "error",
     "traceback": [
      "\u001b[0;31m---------------------------------------------------------------------------\u001b[0m",
      "\u001b[0;31mNameError\u001b[0m                                 Traceback (most recent call last)",
      "\u001b[0;32m<ipython-input-55-6fb96debf1fc>\u001b[0m in \u001b[0;36m<module>\u001b[0;34m\u001b[0m\n\u001b[1;32m      3\u001b[0m \u001b[0mprint\u001b[0m\u001b[0;34m(\u001b[0m\u001b[0mk\u001b[0m\u001b[0;34m)\u001b[0m\u001b[0;34m\u001b[0m\u001b[0;34m\u001b[0m\u001b[0m\n\u001b[1;32m      4\u001b[0m \u001b[0;31m# defining feature matrix(X) and response vector(y)\u001b[0m\u001b[0;34m\u001b[0m\u001b[0;34m\u001b[0m\u001b[0;34m\u001b[0m\u001b[0m\n\u001b[0;32m----> 5\u001b[0;31m \u001b[0mX\u001b[0m \u001b[0;34m=\u001b[0m \u001b[0mgpu\u001b[0m\u001b[0;34m.\u001b[0m\u001b[0miloc\u001b[0m\u001b[0;34m[\u001b[0m\u001b[0;34m:\u001b[0m\u001b[0;34m,\u001b[0m\u001b[0;36m0\u001b[0m\u001b[0;34m:\u001b[0m\u001b[0;36m8\u001b[0m\u001b[0;34m]\u001b[0m\u001b[0;34m\u001b[0m\u001b[0;34m\u001b[0m\u001b[0m\n\u001b[0m\u001b[1;32m      6\u001b[0m \u001b[0my\u001b[0m \u001b[0;34m=\u001b[0m \u001b[0mgpu\u001b[0m\u001b[0;34m[\u001b[0m\u001b[0;34m\"avg_run\"\u001b[0m\u001b[0;34m]\u001b[0m\u001b[0;34m\u001b[0m\u001b[0;34m\u001b[0m\u001b[0m\n\u001b[1;32m      7\u001b[0m \u001b[0;34m\u001b[0m\u001b[0m\n",
      "\u001b[0;31mNameError\u001b[0m: name 'gpu' is not defined"
     ]
    }
   ],
   "source": [
    "import random\n",
    "k = random.sample(range(0, 14), 8)\n",
    "print(k)\n",
    "# defining feature matrix(X) and response vector(y) \n",
    "X = gpu.iloc[:,0:8]\n",
    "y = gpu[\"avg_run\"]\n",
    "  \n",
    "\n",
    "\n",
    "# splitting X and y into training and testing sets \n",
    "from sklearn.model_selection import train_test_split \n",
    "from sklearn.linear_model import LinearRegression\n",
    "X_train, X_test, y_train, y_test = train_test_split(X, y, test_size=0.3, \n",
    "                                                    random_state=1) \n",
    "\n",
    "from sklearn.preprocessing import StandardScaler\n",
    "scaler = StandardScaler()\n",
    "X_train = scaler.fit_transform(X_train)\n",
    "\n",
    "X_test = scaler.fit_transform(X_test)\n",
    "one_column = np.ones((X_test.shape[0],1))\n",
    "X_test = np.concatenate((one_column, X_test), axis = 1)\n",
    "\n",
    "y_test = np.array(y_test).reshape((y_test.shape[0],1))"
   ]
  },
  {
   "cell_type": "code",
   "execution_count": 57,
   "metadata": {},
   "outputs": [
    {
     "name": "stdout",
     "output_type": "stream",
     "text": [
      "Gradient Descent algorithm converged after 64 Iterations\n"
     ]
    }
   ],
   "source": [
    "alpha = 0.1\n",
    "tolerance = 10**-4\n",
    "theta_8, trainCost_8, testCost_8 = linear_regression(X_train, y_train,alpha , 10000, True, 10**-4)"
   ]
  },
  {
   "cell_type": "code",
   "execution_count": 58,
   "metadata": {},
   "outputs": [
    {
     "data": {
      "image/png": "[encoded data removed]",
      "text/plain": [
       "<Figure size 720x720 with 3 Axes>"
      ]
     },
     "metadata": {
      "needs_background": "light"
     },
     "output_type": "display_data"
    }
   ],
   "source": [
    "#### Plots for Cost vs Iterations for Train and Test separately\n",
    "\n",
    "fig = plt.figure(figsize=(10,10))\n",
    "\n",
    "ax2 = fig.add_subplot(2,2,1)\n",
    "\n",
    "ax2.plot(range(len(tol_train_cost[3])),tol_train_cost[3],'-b', label=\"Train_all\")\n",
    "ax2.plot(range(len(tol_test_cost[3])),tol_test_cost[3],'-r', label=\"Test_all\")\n",
    "ax2.plot(range(len(trainCost_8)),trainCost_8,'-g', label=\"Train_8\")\n",
    "ax2.plot(range(len(testCost_8)),testCost_8,'-y', label=\"Test_8\")\n",
    "ax2.legend(loc=\"upper right\")\n",
    "ax2.set_title(\"Cost vs Iterations\")\n",
    "ax2.set_ylabel(\"Cost\")\n",
    "ax2.set_xlabel(\"Iterations\")\n",
    "\n",
    "ax2 = fig.add_subplot(2,2,2)\n",
    "\n",
    "ax2.plot(range(len(tol_train_cost[3])),tol_train_cost[3],'-b', label=\"Train_all\")\n",
    "#ax2.plot(range(len(tol_test_cost[3])),tol_test_cost[3],'-r', label=\"Test_all\")\n",
    "ax2.plot(range(len(trainCost_8)),trainCost_8,'-g', label=\"Train_8\")\n",
    "#ax2.plot(range(len(testCost_8)),testCost_8,'-y', label=\"Test_8\")\n",
    "ax2.legend(loc=\"upper right\")\n",
    "ax2.set_title(\"Cost vs Iterations for Train Set \\nfor All and Random Features\")\n",
    "ax2.set_ylabel(\"Cost\")\n",
    "ax2.set_xlabel(\"Iterations\")\n",
    "\n",
    "\n",
    "ax2 = fig.add_subplot(2,2,3)\n",
    "\n",
    "#ax2.plot(range(len(tol_train_cost[3])),tol_train_cost[3],'-b', label=\"Train_all\")\n",
    "ax2.plot(range(len(tol_test_cost[3])),tol_test_cost[3],'-r', label=\"Test_all\")\n",
    "#ax2.plot(range(len(trainCost_8)),trainCost_8,'-g', label=\"Train_8\")\n",
    "ax2.plot(range(len(testCost_8)),testCost_8,'-y', label=\"Test_8\")\n",
    "ax2.legend(loc=\"upper right\")\n",
    "ax2.set_title(\"Cost vs Iterations for Test Set \\nfor all and random features\")\n",
    "ax2.set_ylabel(\"Cost\")\n",
    "ax2.set_xlabel(\"Iterations\")\n",
    "\n",
    "\n",
    "fig.tight_layout()\n",
    "plt.show()"
   ]
  },
  {
   "cell_type": "code",
   "execution_count": 59,
   "metadata": {},
   "outputs": [],
   "source": [
    "# Prediction for Train and RMSE Train\n",
    "\n",
    "one_column = np.ones((X_train.shape[0],1))\n",
    "training_set = np.concatenate((one_column, X_train), axis = 1)\n",
    "\n",
    "y_train_pred8 = test(training_set,theta_8)\n",
    "rmse_train8 = np.sqrt(metrics.mean_squared_error(y_train, y_train_pred8))"
   ]
  },
  {
   "cell_type": "code",
   "execution_count": 60,
   "metadata": {},
   "outputs": [],
   "source": [
    "y_test = np.array(y_test).reshape((y_test.shape[0],1))\n",
    "y_test_pred8 = test(X_test,theta_8)\n",
    "rmse_test8 = np.sqrt(metrics.mean_squared_error(y_test, y_test_pred8))"
   ]
  },
  {
   "cell_type": "code",
   "execution_count": 61,
   "metadata": {},
   "outputs": [
    {
     "name": "stdout",
     "output_type": "stream",
     "text": [
      "12.48449000247132\n",
      "13.579302338831223\n",
      "12.48449000247132\n",
      "13.579302338831223\n"
     ]
    }
   ],
   "source": [
    "print(rmse_train8)\n",
    "print(rmse_test8)\n",
    "print(tol_rmse_train[3])\n",
    "print(tol_rmse_test[3])"
   ]
  },
  {
   "cell_type": "markdown",
   "metadata": {},
   "source": [
    "Q4"
   ]
  },
  {
   "cell_type": "code",
   "execution_count": 63,
   "metadata": {},
   "outputs": [
    {
     "data": {
      "text/plain": [
       "Index(['MWG', 'NWG', 'KWG', 'MDIMC', 'NDIMC', 'KWI', 'SA', 'SB'], dtype='object')"
      ]
     },
     "execution_count": 63,
     "metadata": {},
     "output_type": "execute_result"
    }
   ],
   "source": [
    "best_features = [0,1,2,3,4,7,12,13]\n",
    "df.columns[best_features]"
   ]
  },
  {
   "cell_type": "code",
   "execution_count": 65,
   "metadata": {},
   "outputs": [],
   "source": [
    "# defining feature matrix(X) and response vector(y) \n",
    "X = df.iloc[:,best_features]\n",
    "y = df[\"avg\"]\n",
    "  \n",
    "\n",
    "\n",
    "# splitting X and y into training and testing sets \n",
    "from sklearn.model_selection import train_test_split \n",
    "from sklearn.linear_model import LinearRegression\n",
    "X_train, X_test, y_train, y_test = train_test_split(X, y, test_size=0.3, \n",
    "                                                    random_state=1) \n",
    "\n",
    "from sklearn.preprocessing import StandardScaler\n",
    "scaler = StandardScaler()\n",
    "X_train = scaler.fit_transform(X_train)\n",
    "\n",
    "X_test = scaler.fit_transform(X_test)\n",
    "one_column = np.ones((X_test.shape[0],1))\n",
    "X_test = np.concatenate((one_column, X_test), axis = 1)\n",
    "\n",
    "y_test = np.array(y_test).reshape((y_test.shape[0],1))"
   ]
  },
  {
   "cell_type": "code",
   "execution_count": 66,
   "metadata": {},
   "outputs": [
    {
     "name": "stdout",
     "output_type": "stream",
     "text": [
      "Gradient Descent algorithm converged after 64 Iterations\n"
     ]
    }
   ],
   "source": [
    "alpha = 0.1\n",
    "tolerance = 10**-4\n",
    "theta_best, trainCost_best, testCost_best = linear_regression(X_train, y_train,alpha , 10000, True, 10**-4)"
   ]
  },
  {
   "cell_type": "code",
   "execution_count": 67,
   "metadata": {},
   "outputs": [
    {
     "data": {
      "image/png": "[encoded data removed]",
      "text/plain": [
       "<Figure size 720x720 with 3 Axes>"
      ]
     },
     "metadata": {
      "needs_background": "light"
     },
     "output_type": "display_data"
    }
   ],
   "source": [
    "#### Plots for Cost vs Iterations for Train and Test separately\n",
    "\n",
    "fig = plt.figure(figsize=(10,10))\n",
    "\n",
    "ax2 = fig.add_subplot(2,2,1)\n",
    "\n",
    "ax2.plot(range(len(tol_train_cost[3])),tol_train_cost[3],'-b', label=\"Train_all\")\n",
    "ax2.plot(range(len(tol_test_cost[3])),tol_test_cost[3],'-r', label=\"Test_all\")\n",
    "ax2.plot(range(len(trainCost_best)),trainCost_best,'-g', label=\"Train_best\")\n",
    "ax2.plot(range(len(testCost_best)),testCost_best,'-y', label=\"Test_best\")\n",
    "ax2.legend(loc=\"upper right\")\n",
    "ax2.set_title(\"Cost vs Iterations\")\n",
    "ax2.set_ylabel(\"Cost\")\n",
    "ax2.set_xlabel(\"Iterations\")\n",
    "\n",
    "ax2 = fig.add_subplot(2,2,2)\n",
    "\n",
    "ax2.plot(range(len(tol_train_cost[3])),tol_train_cost[3],'-b', label=\"Train_all\")\n",
    "#ax2.plot(range(len(tol_test_cost[3])),tol_test_cost[3],'-r', label=\"Test_all\")\n",
    "ax2.plot(range(len(trainCost_best)),trainCost_best,'-g', label=\"Train_best\")\n",
    "#ax2.plot(range(len(testCost_8)),testCost_8,'-y', label=\"Test_8\")\n",
    "ax2.legend(loc=\"upper right\")\n",
    "ax2.set_title(\"Cost vs Iterations for Train Set \\nfor All and Best Selected Features\")\n",
    "ax2.set_ylabel(\"Cost\")\n",
    "ax2.set_xlabel(\"Iterations\")\n",
    "\n",
    "\n",
    "ax2 = fig.add_subplot(2,2,3)\n",
    "\n",
    "#ax2.plot(range(len(tol_train_cost[3])),tol_train_cost[3],'-b', label=\"Train_all\")\n",
    "ax2.plot(range(len(tol_test_cost[3])),tol_test_cost[3],'-r', label=\"Test_all\")\n",
    "#ax2.plot(range(len(trainCost_8)),trainCost_8,'-g', label=\"Train_8\")\n",
    "ax2.plot(range(len(testCost_best)),testCost_best,'-y', label=\"Test_best\")\n",
    "ax2.legend(loc=\"upper right\")\n",
    "ax2.set_title(\"Cost vs Iterations for Test Set \\nfor all and Best Selected features\")\n",
    "ax2.set_ylabel(\"Cost\")\n",
    "ax2.set_xlabel(\"Iterations\")\n",
    "\n",
    "\n",
    "fig.tight_layout()\n",
    "plt.show()"
   ]
  },
  {
   "cell_type": "code",
   "execution_count": 75,
   "metadata": {},
   "outputs": [
    {
     "name": "stdout",
     "output_type": "stream",
     "text": [
      "Mean Absolute Error: 10.876356221310319\n",
      "Mean Squared Error: 184.39745200938714\n",
      "Root Mean Squared Error: 13.579302338831223\n",
      "R-squared: 0.7814837358519207\n"
     ]
    }
   ],
   "source": [
    "from sklearn import metrics\n",
    "print('Mean Absolute Error:', metrics.mean_absolute_error(y_test, y_test_pred8))  \n",
    "print('Mean Squared Error:', metrics.mean_squared_error(y_test, y_test_pred8))  \n",
    "print('Root Mean Squared Error:', np.sqrt(metrics.mean_squared_error(y_test, y_test_pred8)))\n",
    "print('R-squared:', metrics.r2_score(y_test, y_test_pred8))"
   ]
  },
  {
   "cell_type": "code",
   "execution_count": null,
   "metadata": {},
   "outputs": [],
   "source": []
  },
  {
   "cell_type": "code",
   "execution_count": null,
   "metadata": {},
   "outputs": [],
   "source": []
  },
  {
   "cell_type": "code",
   "execution_count": null,
   "metadata": {},
   "outputs": [],
   "source": []
  },
  {
   "cell_type": "code",
   "execution_count": 36,
   "metadata": {
    "scrolled": true
   },
   "outputs": [
    {
     "data": {
      "image/png": "[encoded data removed]",
      "text/plain": [
       "<Figure size 720x504 with 2 Axes>"
      ]
     },
     "metadata": {
      "needs_background": "light"
     },
     "output_type": "display_data"
    }
   ],
   "source": [
    "#### Plots for Cost vs Iterations for Train and Test separately\n",
    "\n",
    "fig = plt.figure(figsize=(10,7))\n",
    "\n",
    "ax2 = fig.add_subplot(1,2,1)\n",
    "\n",
    "ax2.plot(range(len(alpha_train_cost[0])),alpha_train_cost[0],'-b', label=\"0.0001\")\n",
    "ax2.plot(range(len(alpha_train_cost[1])),alpha_train_cost[1],'-r', label=\"0.001\")\n",
    "ax2.plot(range(len(alpha_train_cost[2])),alpha_train_cost[2],'-g', label=\"0.01\")\n",
    "ax2.plot(range(len(alpha_train_cost[3])),alpha_train_cost[3],'-y', label=\"0.1\")\n",
    "ax2.legend(loc=\"upper right\")\n",
    "ax2.set_title(\"Cost vs Iterations for Train Set\")\n",
    "ax2.set_ylabel(\"Cost\")\n",
    "ax2.set_xlabel(\"Iterations\")\n",
    "ax2.set_xticks(list(range(0,11000, 1000)))\n",
    "plt.xticks(rotation=90)\n",
    "\n",
    "\n",
    "ax2 = fig.add_subplot(1,2,2)\n",
    "\n",
    "ax2.plot(range(len(alpha_test_cost[0])),alpha_test_cost[0],'-b', label=\"0.0001\")\n",
    "ax2.plot(range(len(alpha_test_cost[1])),alpha_test_cost[1],'-r', label=\"0.001\")\n",
    "ax2.plot(range(len(alpha_test_cost[2])),alpha_test_cost[2],'-g', label=\"0.01\")\n",
    "ax2.plot(range(len(alpha_test_cost[3])),alpha_test_cost[3],'-y', label=\"0.1\")\n",
    "ax2.legend(loc=\"upper right\")\n",
    "ax2.set_title(\"Cost vs Iterations for Test Set\")\n",
    "ax2.set_ylabel(\"Cost\")\n",
    "ax2.set_xlabel(\"Iterations\")\n",
    "ax2.set_xticks(list(range(0,11000, 1000)))\n",
    "plt.xticks(rotation=90)\n",
    "\n",
    "fig.tight_layout()\n",
    "plt.show()"
   ]
  },
  {
   "cell_type": "code",
   "execution_count": 94,
   "metadata": {},
   "outputs": [
    {
     "data": {
      "image/png": "[encoded data removed]",
      "text/plain": [
       "<Figure size 432x288 with 1 Axes>"
      ]
     },
     "metadata": {
      "needs_background": "light"
     },
     "output_type": "display_data"
    }
   ],
   "source": [
    "fig = plt.figure()\n",
    "\n",
    "ax2 = fig.add_subplot(1,1,1)\n",
    "\n",
    "ax2.plot(range(len(b[0])),b[0],'-b', label=\"0.1\")\n",
    "ax2.plot(range(len(b[1])),b[1],'-r', label=\"0.01\")\n",
    "ax2.plot(range(len(b[2])),b[2],'-g', label=\"0.001\")\n",
    "ax2.plot(range(len(b[3])),b[3],'-y', label=\"0.0001\")\n",
    "ax2.legend(loc=\"upper right\")\n",
    "ax2.set_title(\"Cost vs Iterations for Test\")\n",
    "ax2.set_ylabel(\"Cost\")\n",
    "ax2.set_xlabel(\"Iterations\")\n",
    "plt.show()"
   ]
  },
  {
   "cell_type": "code",
   "execution_count": 98,
   "metadata": {},
   "outputs": [
    {
     "data": {
      "text/plain": [
       "[0.1, 0.01, 0.001, 0.0001]"
      ]
     },
     "execution_count": 98,
     "metadata": {},
     "output_type": "execute_result"
    }
   ],
   "source": [
    "alpha"
   ]
  },
  {
   "cell_type": "code",
   "execution_count": 117,
   "metadata": {},
   "outputs": [],
   "source": [
    "# Prediction for Train and RMSE Train\n",
    "\n",
    "#one_column = np.ones((X_train.shape[0],1))\n",
    "#training_set = np.concatenate((one_column, X_train), axis = 1)\n",
    "\n",
    "y_prediction = []\n",
    "for i in range(len(alpha)):\n",
    "    y_pred = test(X_std,c[i])\n",
    "    y_prediction.append(y_pred)\n",
    "    \n",
    "\n",
    "from sklearn import metrics\n",
    "rmse_train = []\n",
    "for i in range(len(alpha)):\n",
    "    rmse = np.sqrt(metrics.mean_squared_error(y_train, y_prediction[i]))\n",
    "    rmse_train.append(rmse)"
   ]
  },
  {
   "cell_type": "code",
   "execution_count": 118,
   "metadata": {},
   "outputs": [
    {
     "data": {
      "text/plain": [
       "[284.67797799736934, 284.67797799736934, 284.9403899365425, 349.3176704855508]"
      ]
     },
     "execution_count": 118,
     "metadata": {},
     "output_type": "execute_result"
    }
   ],
   "source": [
    "rmse_train"
   ]
  },
  {
   "cell_type": "code",
   "execution_count": 121,
   "metadata": {},
   "outputs": [],
   "source": [
    "#### Prediction for Test and RMSE\n",
    "\n",
    "y_prediction = []\n",
    "for i in range(len(alpha)):\n",
    "    y_pred = test(X_test,c[i])\n",
    "    y_prediction.append(y_pred)\n",
    "    \n",
    "\n",
    "from sklearn import metrics\n",
    "rmse_test = []\n",
    "for i in range(len(alpha)):\n",
    "    rmse = np.sqrt(metrics.mean_squared_error(y_test, y_prediction[i]))\n",
    "    rmse_test.append(rmse)"
   ]
  },
  {
   "cell_type": "code",
   "execution_count": 122,
   "metadata": {},
   "outputs": [
    {
     "data": {
      "text/plain": [
       "[281.90795910908327, 281.9079591090861, 282.1640428278979, 346.7240661714565]"
      ]
     },
     "execution_count": 122,
     "metadata": {},
     "output_type": "execute_result"
    }
   ],
   "source": [
    "rmse_test"
   ]
  },
  {
   "cell_type": "code",
   "execution_count": 124,
   "metadata": {},
   "outputs": [
    {
     "data": {
      "image/png": "[encoded data removed]",
      "text/plain": [
       "<Figure size 432x288 with 1 Axes>"
      ]
     },
     "metadata": {
      "needs_background": "light"
     },
     "output_type": "display_data"
    }
   ],
   "source": [
    "fig = plt.figure()\n",
    "\n",
    "rmse_plot = fig.add_subplot(1,1,1)\n",
    "\n",
    "rmse_plot.plot(np.log10(alpha),rmse_train,'-b', label='RMSE_Train')\n",
    "rmse_plot.plot(np.log10(alpha, ),rmse_test,'-r', label='RMSE_Test')\n",
    "rmse_plot.legend(loc=\"upper right\")\n",
    "#rmse_plot.set_title(\"Cost vs Iterations for Test\")\n",
    "rmse_plot.set_ylabel(\"RMSE\")\n",
    "rmse_plot.set_xlabel(\"Log(Alpha)\")\n",
    "#rmse_plot.set_xlim([0.001,1])\n",
    "plt.show()"
   ]
  },
  {
   "cell_type": "code",
   "execution_count": 156,
   "metadata": {},
   "outputs": [
    {
     "data": {
      "text/html": [
       "<div>\n",
       "<style scoped>\n",
       "    .dataframe tbody tr th:only-of-type {\n",
       "        vertical-align: middle;\n",
       "    }\n",
       "\n",
       "    .dataframe tbody tr th {\n",
       "        vertical-align: top;\n",
       "    }\n",
       "\n",
       "    .dataframe thead th {\n",
       "        text-align: right;\n",
       "    }\n",
       "</style>\n",
       "<table border=\"1\" class=\"dataframe\">\n",
       "  <thead>\n",
       "    <tr style=\"text-align: right;\">\n",
       "      <th></th>\n",
       "      <th>MWG</th>\n",
       "      <th>NWG</th>\n",
       "      <th>KWG</th>\n",
       "      <th>MDIMC</th>\n",
       "      <th>NDIMC</th>\n",
       "      <th>MDIMA</th>\n",
       "      <th>NDIMB</th>\n",
       "      <th>KWI</th>\n",
       "      <th>VWM</th>\n",
       "      <th>VWN</th>\n",
       "      <th>STRM</th>\n",
       "      <th>STRN</th>\n",
       "      <th>SA</th>\n",
       "      <th>SB</th>\n",
       "    </tr>\n",
       "  </thead>\n",
       "  <tbody>\n",
       "    <tr>\n",
       "      <td>116805</td>\n",
       "      <td>64</td>\n",
       "      <td>128</td>\n",
       "      <td>16</td>\n",
       "      <td>8</td>\n",
       "      <td>16</td>\n",
       "      <td>32</td>\n",
       "      <td>32</td>\n",
       "      <td>8</td>\n",
       "      <td>1</td>\n",
       "      <td>1</td>\n",
       "      <td>0</td>\n",
       "      <td>1</td>\n",
       "      <td>0</td>\n",
       "      <td>1</td>\n",
       "    </tr>\n",
       "    <tr>\n",
       "      <td>168751</td>\n",
       "      <td>128</td>\n",
       "      <td>32</td>\n",
       "      <td>32</td>\n",
       "      <td>32</td>\n",
       "      <td>16</td>\n",
       "      <td>32</td>\n",
       "      <td>16</td>\n",
       "      <td>2</td>\n",
       "      <td>1</td>\n",
       "      <td>1</td>\n",
       "      <td>1</td>\n",
       "      <td>1</td>\n",
       "      <td>1</td>\n",
       "      <td>1</td>\n",
       "    </tr>\n",
       "    <tr>\n",
       "      <td>91812</td>\n",
       "      <td>64</td>\n",
       "      <td>64</td>\n",
       "      <td>16</td>\n",
       "      <td>8</td>\n",
       "      <td>32</td>\n",
       "      <td>16</td>\n",
       "      <td>16</td>\n",
       "      <td>2</td>\n",
       "      <td>1</td>\n",
       "      <td>1</td>\n",
       "      <td>0</td>\n",
       "      <td>1</td>\n",
       "      <td>0</td>\n",
       "      <td>0</td>\n",
       "    </tr>\n",
       "    <tr>\n",
       "      <td>175331</td>\n",
       "      <td>128</td>\n",
       "      <td>64</td>\n",
       "      <td>16</td>\n",
       "      <td>8</td>\n",
       "      <td>32</td>\n",
       "      <td>16</td>\n",
       "      <td>16</td>\n",
       "      <td>8</td>\n",
       "      <td>8</td>\n",
       "      <td>1</td>\n",
       "      <td>0</td>\n",
       "      <td>0</td>\n",
       "      <td>1</td>\n",
       "      <td>1</td>\n",
       "    </tr>\n",
       "    <tr>\n",
       "      <td>40877</td>\n",
       "      <td>32</td>\n",
       "      <td>64</td>\n",
       "      <td>32</td>\n",
       "      <td>8</td>\n",
       "      <td>16</td>\n",
       "      <td>16</td>\n",
       "      <td>32</td>\n",
       "      <td>8</td>\n",
       "      <td>1</td>\n",
       "      <td>1</td>\n",
       "      <td>1</td>\n",
       "      <td>1</td>\n",
       "      <td>0</td>\n",
       "      <td>1</td>\n",
       "    </tr>\n",
       "    <tr>\n",
       "      <td>...</td>\n",
       "      <td>...</td>\n",
       "      <td>...</td>\n",
       "      <td>...</td>\n",
       "      <td>...</td>\n",
       "      <td>...</td>\n",
       "      <td>...</td>\n",
       "      <td>...</td>\n",
       "      <td>...</td>\n",
       "      <td>...</td>\n",
       "      <td>...</td>\n",
       "      <td>...</td>\n",
       "      <td>...</td>\n",
       "      <td>...</td>\n",
       "      <td>...</td>\n",
       "    </tr>\n",
       "    <tr>\n",
       "      <td>65615</td>\n",
       "      <td>32</td>\n",
       "      <td>128</td>\n",
       "      <td>32</td>\n",
       "      <td>32</td>\n",
       "      <td>8</td>\n",
       "      <td>32</td>\n",
       "      <td>32</td>\n",
       "      <td>2</td>\n",
       "      <td>1</td>\n",
       "      <td>4</td>\n",
       "      <td>1</td>\n",
       "      <td>1</td>\n",
       "      <td>1</td>\n",
       "      <td>1</td>\n",
       "    </tr>\n",
       "    <tr>\n",
       "      <td>77655</td>\n",
       "      <td>64</td>\n",
       "      <td>32</td>\n",
       "      <td>16</td>\n",
       "      <td>16</td>\n",
       "      <td>32</td>\n",
       "      <td>32</td>\n",
       "      <td>32</td>\n",
       "      <td>2</td>\n",
       "      <td>2</td>\n",
       "      <td>1</td>\n",
       "      <td>0</td>\n",
       "      <td>1</td>\n",
       "      <td>1</td>\n",
       "      <td>1</td>\n",
       "    </tr>\n",
       "    <tr>\n",
       "      <td>210755</td>\n",
       "      <td>128</td>\n",
       "      <td>128</td>\n",
       "      <td>16</td>\n",
       "      <td>16</td>\n",
       "      <td>8</td>\n",
       "      <td>8</td>\n",
       "      <td>32</td>\n",
       "      <td>8</td>\n",
       "      <td>4</td>\n",
       "      <td>1</td>\n",
       "      <td>0</td>\n",
       "      <td>0</td>\n",
       "      <td>1</td>\n",
       "      <td>1</td>\n",
       "    </tr>\n",
       "    <tr>\n",
       "      <td>56088</td>\n",
       "      <td>32</td>\n",
       "      <td>128</td>\n",
       "      <td>32</td>\n",
       "      <td>8</td>\n",
       "      <td>8</td>\n",
       "      <td>16</td>\n",
       "      <td>16</td>\n",
       "      <td>8</td>\n",
       "      <td>2</td>\n",
       "      <td>2</td>\n",
       "      <td>1</td>\n",
       "      <td>0</td>\n",
       "      <td>0</td>\n",
       "      <td>0</td>\n",
       "    </tr>\n",
       "    <tr>\n",
       "      <td>38408</td>\n",
       "      <td>32</td>\n",
       "      <td>64</td>\n",
       "      <td>32</td>\n",
       "      <td>8</td>\n",
       "      <td>8</td>\n",
       "      <td>8</td>\n",
       "      <td>16</td>\n",
       "      <td>2</td>\n",
       "      <td>4</td>\n",
       "      <td>1</td>\n",
       "      <td>1</td>\n",
       "      <td>0</td>\n",
       "      <td>0</td>\n",
       "      <td>0</td>\n",
       "    </tr>\n",
       "  </tbody>\n",
       "</table>\n",
       "<p>169120 rows × 14 columns</p>\n",
       "</div>"
      ],
      "text/plain": [
       "        MWG  NWG  KWG  MDIMC  NDIMC  MDIMA  NDIMB  KWI  VWM  VWN  STRM  STRN  \\\n",
       "116805   64  128   16      8     16     32     32    8    1    1     0     1   \n",
       "168751  128   32   32     32     16     32     16    2    1    1     1     1   \n",
       "91812    64   64   16      8     32     16     16    2    1    1     0     1   \n",
       "175331  128   64   16      8     32     16     16    8    8    1     0     0   \n",
       "40877    32   64   32      8     16     16     32    8    1    1     1     1   \n",
       "...     ...  ...  ...    ...    ...    ...    ...  ...  ...  ...   ...   ...   \n",
       "65615    32  128   32     32      8     32     32    2    1    4     1     1   \n",
       "77655    64   32   16     16     32     32     32    2    2    1     0     1   \n",
       "210755  128  128   16     16      8      8     32    8    4    1     0     0   \n",
       "56088    32  128   32      8      8     16     16    8    2    2     1     0   \n",
       "38408    32   64   32      8      8      8     16    2    4    1     1     0   \n",
       "\n",
       "        SA  SB  \n",
       "116805   0   1  \n",
       "168751   1   1  \n",
       "91812    0   0  \n",
       "175331   1   1  \n",
       "40877    0   1  \n",
       "...     ..  ..  \n",
       "65615    1   1  \n",
       "77655    1   1  \n",
       "210755   1   1  \n",
       "56088    0   0  \n",
       "38408    0   0  \n",
       "\n",
       "[169120 rows x 14 columns]"
      ]
     },
     "execution_count": 156,
     "metadata": {},
     "output_type": "execute_result"
    }
   ],
   "source": [
    "X_train"
   ]
  },
  {
   "cell_type": "code",
   "execution_count": 186,
   "metadata": {
    "scrolled": true
   },
   "outputs": [
    {
     "name": "stdout",
     "output_type": "stream",
     "text": [
      "The best alpha is 0.001\n",
      "\n",
      "######---- Iteration with tolerance value 1e-08 -----#####\n",
      "Gradient Descent algorithm converged after 9997 Iterations\n",
      "\n",
      "######---- Iteration with tolerance value 1e-07 -----#####\n",
      "Gradient Descent algorithm converged after 7805 Iterations\n",
      "\n",
      "######---- Iteration with tolerance value 1e-06 -----#####\n",
      "Gradient Descent algorithm converged after 5625 Iterations\n",
      "\n",
      "######---- Iteration with tolerance value 1e-05 -----#####\n",
      "Gradient Descent algorithm converged after 3523 Iterations\n",
      "\n",
      "######---- Iteration with tolerance value 0.0001 -----#####\n",
      "Gradient Descent algorithm converged after 1711 Iterations\n"
     ]
    }
   ],
   "source": [
    "print(\"The best alpha is 0.001\")\n",
    "toler_val = [10**-8, 10**-7, 10**-6, 10**-5, 10**-4]\n",
    "train_theta = []\n",
    "train_cost = []\n",
    "test_cost = []\n",
    "\n",
    "\n",
    "for i in range(len(toler_val)):\n",
    "    print(\"\\n######---- Iteration with tolerance value\", toler_val[i],\"-----#####\")\n",
    "    \n",
    "    theta, trainCost, testCost = linear_regression(X_train, y_train, 0.001, 10000, True, toler_val[i])\n",
    "    \n",
    "    train_theta.append(theta)\n",
    "    train_cost.append(trainCost)\n",
    "    \n",
    "    test_cost.append(testCost)"
   ]
  },
  {
   "cell_type": "code",
   "execution_count": 188,
   "metadata": {},
   "outputs": [],
   "source": [
    "# Prediction for Train and RMSE Train\n",
    "\n",
    "one_column = np.ones((X_train.shape[0],1))\n",
    "training_set = np.concatenate((one_column, X_train), axis = 1)\n",
    "\n",
    "y_prediction = []\n",
    "for i in range(len(toler_val)):\n",
    "    y_pred = test(training_set,train_theta[i])\n",
    "    y_prediction.append(y_pred)\n",
    "    \n",
    "\n",
    "from sklearn import metrics\n",
    "rmse_train = []\n",
    "for i in range(len(toler_val)):\n",
    "    rmse = np.sqrt(metrics.mean_squared_error(y_train, y_prediction[i]))\n",
    "    rmse_train.append(rmse)"
   ]
  },
  {
   "cell_type": "code",
   "execution_count": 189,
   "metadata": {},
   "outputs": [
    {
     "data": {
      "text/plain": [
       "[284.67933280659116,\n",
       " 284.691507625731,\n",
       " 284.8124470684015,\n",
       " 285.9672066927597,\n",
       " 295.8506877510251]"
      ]
     },
     "execution_count": 189,
     "metadata": {},
     "output_type": "execute_result"
    }
   ],
   "source": [
    "rmse_train"
   ]
  },
  {
   "cell_type": "code",
   "execution_count": 190,
   "metadata": {},
   "outputs": [],
   "source": [
    "#### Prediction for Test and RMSE\n",
    "\n",
    "y_prediction = []\n",
    "for i in range(len(toler_val)):\n",
    "    y_pred = test(X_test,train_theta[i])\n",
    "    y_prediction.append(y_pred)\n",
    "    \n",
    "\n",
    "from sklearn import metrics\n",
    "rmse_test = []\n",
    "for i in range(len(toler_val)):\n",
    "    rmse = np.sqrt(metrics.mean_squared_error(y_test, y_prediction[i]))\n",
    "    rmse_test.append(rmse)"
   ]
  },
  {
   "cell_type": "code",
   "execution_count": 191,
   "metadata": {},
   "outputs": [
    {
     "data": {
      "text/plain": [
       "[281.90895011932287,\n",
       " 281.91995418933936,\n",
       " 282.03736843822793,\n",
       " 283.1888800671816,\n",
       " 293.11292250667736]"
      ]
     },
     "execution_count": 191,
     "metadata": {},
     "output_type": "execute_result"
    }
   ],
   "source": [
    "rmse_test"
   ]
  },
  {
   "cell_type": "code",
   "execution_count": 194,
   "metadata": {},
   "outputs": [
    {
     "data": {
      "image/png": "[encoded data removed]",
      "text/plain": [
       "<Figure size 432x288 with 1 Axes>"
      ]
     },
     "metadata": {
      "needs_background": "light"
     },
     "output_type": "display_data"
    }
   ],
   "source": [
    "fig = plt.figure()\n",
    "\n",
    "rmse_plot = fig.add_subplot(1,1,1)\n",
    "\n",
    "rmse_plot.plot(np.log10(toler_val),rmse_train,'-b', label='RMSE_Train')\n",
    "rmse_plot.plot(np.log10(toler_val, ),rmse_test,'-r', label='RMSE_Test')\n",
    "rmse_plot.legend(loc=\"upper right\")\n",
    "#rmse_plot.set_title(\"Cost vs Iterations for Test\")\n",
    "rmse_plot.set_ylabel(\"RMSE\")\n",
    "rmse_plot.set_xlabel(\"Log(Tolerance Value)\")\n",
    "#rmse_plot.set_xlim([0.001,1])\n",
    "plt.show()"
   ]
  },
  {
   "cell_type": "code",
   "execution_count": 195,
   "metadata": {},
   "outputs": [
    {
     "name": "stdout",
     "output_type": "stream",
     "text": [
      "\n",
      "######---- Iteration =  1000 -----#####\n",
      "\n",
      "######---- Iteration =  2000 -----#####\n",
      "\n",
      "######---- Iteration =  3000 -----#####\n",
      "\n",
      "######---- Iteration =  4000 -----#####\n",
      "\n",
      "######---- Iteration =  5000 -----#####\n",
      "\n",
      "######---- Iteration =  6000 -----#####\n",
      "\n",
      "######---- Iteration =  7000 -----#####\n",
      "\n",
      "######---- Iteration =  8000 -----#####\n",
      "\n",
      "######---- Iteration =  9000 -----#####\n",
      "\n",
      "######---- Iteration =  10000 -----#####\n"
     ]
    }
   ],
   "source": [
    "iters_2 = list(range(1000, 11000, 1000))\n",
    "train_theta = []\n",
    "train_cost = []\n",
    "\n",
    "test_cost = []\n",
    "\n",
    "\n",
    "for i in range(len(iters_2)):\n",
    "    print(\"\\n######---- Iteration = \", iters_2[i],\"-----#####\")\n",
    "    \n",
    "    theta, trainCost, testCost = linear_regression(X_train, y_train, 0.001, iters_2[i])\n",
    "    \n",
    "    train_theta.append(theta)\n",
    "    train_cost.append(trainCost)\n",
    "    \n",
    "    test_cost.append(testCost)"
   ]
  },
  {
   "cell_type": "code",
   "execution_count": 197,
   "metadata": {},
   "outputs": [],
   "source": [
    "# Prediction for Train and RMSE Train\n",
    "\n",
    "one_column = np.ones((X_train.shape[0],1))\n",
    "training_set = np.concatenate((one_column, X_train), axis = 1)\n",
    "\n",
    "y_prediction = []\n",
    "for i in range(len(iters_2)):\n",
    "    y_pred = test(training_set,train_theta[i])\n",
    "    y_prediction.append(y_pred)\n",
    "    \n",
    "\n",
    "from sklearn import metrics\n",
    "rmse_train = []\n",
    "for i in range(len(iters_2)):\n",
    "    rmse = np.sqrt(metrics.mean_squared_error(y_train, y_prediction[i]))\n",
    "    rmse_train.append(rmse)"
   ]
  },
  {
   "cell_type": "code",
   "execution_count": 198,
   "metadata": {},
   "outputs": [
    {
     "data": {
      "text/plain": [
       "[314.90570188373385,\n",
       " 292.3635002677992,\n",
       " 286.9983408650529,\n",
       " 285.4421143918503,\n",
       " 284.9389886732254,\n",
       " 284.7684442532405,\n",
       " 284.70951793171446,\n",
       " 284.6890012254649,\n",
       " 284.68183512822515,\n",
       " 284.67932854909327]"
      ]
     },
     "execution_count": 198,
     "metadata": {},
     "output_type": "execute_result"
    }
   ],
   "source": [
    "rmse_train"
   ]
  },
  {
   "cell_type": "code",
   "execution_count": 199,
   "metadata": {},
   "outputs": [],
   "source": [
    "#### Prediction for Test and RMSE\n",
    "\n",
    "y_prediction = []\n",
    "for i in range(len(iters_2)):\n",
    "    y_pred = test(X_test,train_theta[i])\n",
    "    y_prediction.append(y_pred)\n",
    "    \n",
    "\n",
    "from sklearn import metrics\n",
    "rmse_test = []\n",
    "for i in range(len(iters_2)):\n",
    "    rmse = np.sqrt(metrics.mean_squared_error(y_test, y_prediction[i]))\n",
    "    rmse_test.append(rmse)"
   ]
  },
  {
   "cell_type": "code",
   "execution_count": 200,
   "metadata": {},
   "outputs": [
    {
     "data": {
      "text/plain": [
       "[312.23342772025603,\n",
       " 289.61071558254497,\n",
       " 284.22273396999,\n",
       " 282.66352764971555,\n",
       " 282.1623683537665,\n",
       " 281.9942042258305,\n",
       " 281.9370324863082,\n",
       " 281.91762073163807,\n",
       " 281.91109755276744,\n",
       " 281.9089466325068]"
      ]
     },
     "execution_count": 200,
     "metadata": {},
     "output_type": "execute_result"
    }
   ],
   "source": [
    "rmse_test"
   ]
  },
  {
   "cell_type": "code",
   "execution_count": 202,
   "metadata": {},
   "outputs": [
    {
     "data": {
      "image/png": "[encoded data removed]",
      "text/plain": [
       "<Figure size 432x288 with 1 Axes>"
      ]
     },
     "metadata": {
      "needs_background": "light"
     },
     "output_type": "display_data"
    }
   ],
   "source": [
    "fig = plt.figure()\n",
    "\n",
    "rmse_plot = fig.add_subplot(1,1,1)\n",
    "\n",
    "rmse_plot.plot(iters_2,rmse_train,'-b', label='RMSE_Train')\n",
    "rmse_plot.plot(iters_2,rmse_test,'-r', label='RMSE_Test')\n",
    "rmse_plot.legend(loc=\"upper right\")\n",
    "#rmse_plot.set_title(\"Cost vs Iterations for Test\")\n",
    "rmse_plot.set_ylabel(\"RMSE\")\n",
    "rmse_plot.set_xlabel(\"Iterations\")\n",
    "#rmse_plot.set_xlim([0.001,1])\n",
    "plt.show()"
   ]
  },
  {
   "cell_type": "code",
   "execution_count": 204,
   "metadata": {},
   "outputs": [
    {
     "data": {
      "text/html": [
       "<style  type=\"text/css\" >\n",
       "    #T_37f913c2_4ecd_11ea_94a7_f018988e8c63row0_col0 {\n",
       "            background-color:  #4d004b;\n",
       "            color:  #f1f1f1;\n",
       "        }    #T_37f913c2_4ecd_11ea_94a7_f018988e8c63row0_col1 {\n",
       "            background-color:  #d3e2ef;\n",
       "            color:  #000000;\n",
       "        }    #T_37f913c2_4ecd_11ea_94a7_f018988e8c63row0_col2 {\n",
       "            background-color:  #d1e1ee;\n",
       "            color:  #000000;\n",
       "        }    #T_37f913c2_4ecd_11ea_94a7_f018988e8c63row0_col3 {\n",
       "            background-color:  #bdd1e5;\n",
       "            color:  #000000;\n",
       "        }    #T_37f913c2_4ecd_11ea_94a7_f018988e8c63row0_col4 {\n",
       "            background-color:  #d6e4f0;\n",
       "            color:  #000000;\n",
       "        }    #T_37f913c2_4ecd_11ea_94a7_f018988e8c63row0_col5 {\n",
       "            background-color:  #b1c9e1;\n",
       "            color:  #000000;\n",
       "        }    #T_37f913c2_4ecd_11ea_94a7_f018988e8c63row0_col6 {\n",
       "            background-color:  #d0e0ed;\n",
       "            color:  #000000;\n",
       "        }    #T_37f913c2_4ecd_11ea_94a7_f018988e8c63row0_col7 {\n",
       "            background-color:  #d3e2ef;\n",
       "            color:  #000000;\n",
       "        }    #T_37f913c2_4ecd_11ea_94a7_f018988e8c63row0_col8 {\n",
       "            background-color:  #91a0cb;\n",
       "            color:  #000000;\n",
       "        }    #T_37f913c2_4ecd_11ea_94a7_f018988e8c63row0_col9 {\n",
       "            background-color:  #d3e2ef;\n",
       "            color:  #000000;\n",
       "        }    #T_37f913c2_4ecd_11ea_94a7_f018988e8c63row1_col0 {\n",
       "            background-color:  #d3e2ef;\n",
       "            color:  #000000;\n",
       "        }    #T_37f913c2_4ecd_11ea_94a7_f018988e8c63row1_col1 {\n",
       "            background-color:  #4d004b;\n",
       "            color:  #f1f1f1;\n",
       "        }    #T_37f913c2_4ecd_11ea_94a7_f018988e8c63row1_col2 {\n",
       "            background-color:  #d1e1ee;\n",
       "            color:  #000000;\n",
       "        }    #T_37f913c2_4ecd_11ea_94a7_f018988e8c63row1_col3 {\n",
       "            background-color:  #d6e4f0;\n",
       "            color:  #000000;\n",
       "        }    #T_37f913c2_4ecd_11ea_94a7_f018988e8c63row1_col4 {\n",
       "            background-color:  #bdd1e5;\n",
       "            color:  #000000;\n",
       "        }    #T_37f913c2_4ecd_11ea_94a7_f018988e8c63row1_col5 {\n",
       "            background-color:  #d0e0ed;\n",
       "            color:  #000000;\n",
       "        }    #T_37f913c2_4ecd_11ea_94a7_f018988e8c63row1_col6 {\n",
       "            background-color:  #b1c9e1;\n",
       "            color:  #000000;\n",
       "        }    #T_37f913c2_4ecd_11ea_94a7_f018988e8c63row1_col7 {\n",
       "            background-color:  #d3e2ef;\n",
       "            color:  #000000;\n",
       "        }    #T_37f913c2_4ecd_11ea_94a7_f018988e8c63row1_col8 {\n",
       "            background-color:  #d3e2ef;\n",
       "            color:  #000000;\n",
       "        }    #T_37f913c2_4ecd_11ea_94a7_f018988e8c63row1_col9 {\n",
       "            background-color:  #91a0cb;\n",
       "            color:  #000000;\n",
       "        }    #T_37f913c2_4ecd_11ea_94a7_f018988e8c63row2_col0 {\n",
       "            background-color:  #d1e1ee;\n",
       "            color:  #000000;\n",
       "        }    #T_37f913c2_4ecd_11ea_94a7_f018988e8c63row2_col1 {\n",
       "            background-color:  #d1e1ee;\n",
       "            color:  #000000;\n",
       "        }    #T_37f913c2_4ecd_11ea_94a7_f018988e8c63row2_col2 {\n",
       "            background-color:  #4d004b;\n",
       "            color:  #f1f1f1;\n",
       "        }    #T_37f913c2_4ecd_11ea_94a7_f018988e8c63row2_col3 {\n",
       "            background-color:  #b3cbe2;\n",
       "            color:  #000000;\n",
       "        }    #T_37f913c2_4ecd_11ea_94a7_f018988e8c63row2_col4 {\n",
       "            background-color:  #b3cbe2;\n",
       "            color:  #000000;\n",
       "        }    #T_37f913c2_4ecd_11ea_94a7_f018988e8c63row2_col5 {\n",
       "            background-color:  #dbe8f2;\n",
       "            color:  #000000;\n",
       "        }    #T_37f913c2_4ecd_11ea_94a7_f018988e8c63row2_col6 {\n",
       "            background-color:  #dbe8f2;\n",
       "            color:  #000000;\n",
       "        }    #T_37f913c2_4ecd_11ea_94a7_f018988e8c63row2_col7 {\n",
       "            background-color:  #d3e2ef;\n",
       "            color:  #000000;\n",
       "        }    #T_37f913c2_4ecd_11ea_94a7_f018988e8c63row2_col8 {\n",
       "            background-color:  #d7e5f0;\n",
       "            color:  #000000;\n",
       "        }    #T_37f913c2_4ecd_11ea_94a7_f018988e8c63row2_col9 {\n",
       "            background-color:  #d7e5f0;\n",
       "            color:  #000000;\n",
       "        }    #T_37f913c2_4ecd_11ea_94a7_f018988e8c63row3_col0 {\n",
       "            background-color:  #bdd1e5;\n",
       "            color:  #000000;\n",
       "        }    #T_37f913c2_4ecd_11ea_94a7_f018988e8c63row3_col1 {\n",
       "            background-color:  #d6e4f0;\n",
       "            color:  #000000;\n",
       "        }    #T_37f913c2_4ecd_11ea_94a7_f018988e8c63row3_col2 {\n",
       "            background-color:  #b3cbe2;\n",
       "            color:  #000000;\n",
       "        }    #T_37f913c2_4ecd_11ea_94a7_f018988e8c63row3_col3 {\n",
       "            background-color:  #4d004b;\n",
       "            color:  #f1f1f1;\n",
       "        }    #T_37f913c2_4ecd_11ea_94a7_f018988e8c63row3_col4 {\n",
       "            background-color:  #f7fcfd;\n",
       "            color:  #000000;\n",
       "        }    #T_37f913c2_4ecd_11ea_94a7_f018988e8c63row3_col5 {\n",
       "            background-color:  #a8c3de;\n",
       "            color:  #000000;\n",
       "        }    #T_37f913c2_4ecd_11ea_94a7_f018988e8c63row3_col6 {\n",
       "            background-color:  #c1d4e7;\n",
       "            color:  #000000;\n",
       "        }    #T_37f913c2_4ecd_11ea_94a7_f018988e8c63row3_col7 {\n",
       "            background-color:  #d3e2ef;\n",
       "            color:  #000000;\n",
       "        }    #T_37f913c2_4ecd_11ea_94a7_f018988e8c63row3_col8 {\n",
       "            background-color:  #ebf4f8;\n",
       "            color:  #000000;\n",
       "        }    #T_37f913c2_4ecd_11ea_94a7_f018988e8c63row3_col9 {\n",
       "            background-color:  #d1e1ee;\n",
       "            color:  #000000;\n",
       "        }    #T_37f913c2_4ecd_11ea_94a7_f018988e8c63row4_col0 {\n",
       "            background-color:  #d6e4f0;\n",
       "            color:  #000000;\n",
       "        }    #T_37f913c2_4ecd_11ea_94a7_f018988e8c63row4_col1 {\n",
       "            background-color:  #bdd1e5;\n",
       "            color:  #000000;\n",
       "        }    #T_37f913c2_4ecd_11ea_94a7_f018988e8c63row4_col2 {\n",
       "            background-color:  #b3cbe2;\n",
       "            color:  #000000;\n",
       "        }    #T_37f913c2_4ecd_11ea_94a7_f018988e8c63row4_col3 {\n",
       "            background-color:  #f7fcfd;\n",
       "            color:  #000000;\n",
       "        }    #T_37f913c2_4ecd_11ea_94a7_f018988e8c63row4_col4 {\n",
       "            background-color:  #4d004b;\n",
       "            color:  #f1f1f1;\n",
       "        }    #T_37f913c2_4ecd_11ea_94a7_f018988e8c63row4_col5 {\n",
       "            background-color:  #c1d4e7;\n",
       "            color:  #000000;\n",
       "        }    #T_37f913c2_4ecd_11ea_94a7_f018988e8c63row4_col6 {\n",
       "            background-color:  #a8c3de;\n",
       "            color:  #000000;\n",
       "        }    #T_37f913c2_4ecd_11ea_94a7_f018988e8c63row4_col7 {\n",
       "            background-color:  #d3e2ef;\n",
       "            color:  #000000;\n",
       "        }    #T_37f913c2_4ecd_11ea_94a7_f018988e8c63row4_col8 {\n",
       "            background-color:  #d1e1ee;\n",
       "            color:  #000000;\n",
       "        }    #T_37f913c2_4ecd_11ea_94a7_f018988e8c63row4_col9 {\n",
       "            background-color:  #ebf4f8;\n",
       "            color:  #000000;\n",
       "        }    #T_37f913c2_4ecd_11ea_94a7_f018988e8c63row5_col0 {\n",
       "            background-color:  #b1c9e1;\n",
       "            color:  #000000;\n",
       "        }    #T_37f913c2_4ecd_11ea_94a7_f018988e8c63row5_col1 {\n",
       "            background-color:  #d0e0ed;\n",
       "            color:  #000000;\n",
       "        }    #T_37f913c2_4ecd_11ea_94a7_f018988e8c63row5_col2 {\n",
       "            background-color:  #dbe8f2;\n",
       "            color:  #000000;\n",
       "        }    #T_37f913c2_4ecd_11ea_94a7_f018988e8c63row5_col3 {\n",
       "            background-color:  #a8c3de;\n",
       "            color:  #000000;\n",
       "        }    #T_37f913c2_4ecd_11ea_94a7_f018988e8c63row5_col4 {\n",
       "            background-color:  #c1d4e7;\n",
       "            color:  #000000;\n",
       "        }    #T_37f913c2_4ecd_11ea_94a7_f018988e8c63row5_col5 {\n",
       "            background-color:  #4d004b;\n",
       "            color:  #f1f1f1;\n",
       "        }    #T_37f913c2_4ecd_11ea_94a7_f018988e8c63row5_col6 {\n",
       "            background-color:  #c0d4e6;\n",
       "            color:  #000000;\n",
       "        }    #T_37f913c2_4ecd_11ea_94a7_f018988e8c63row5_col7 {\n",
       "            background-color:  #d3e2ef;\n",
       "            color:  #000000;\n",
       "        }    #T_37f913c2_4ecd_11ea_94a7_f018988e8c63row5_col8 {\n",
       "            background-color:  #f6fbfd;\n",
       "            color:  #000000;\n",
       "        }    #T_37f913c2_4ecd_11ea_94a7_f018988e8c63row5_col9 {\n",
       "            background-color:  #d8e6f0;\n",
       "            color:  #000000;\n",
       "        }    #T_37f913c2_4ecd_11ea_94a7_f018988e8c63row6_col0 {\n",
       "            background-color:  #d0e0ed;\n",
       "            color:  #000000;\n",
       "        }    #T_37f913c2_4ecd_11ea_94a7_f018988e8c63row6_col1 {\n",
       "            background-color:  #b1c9e1;\n",
       "            color:  #000000;\n",
       "        }    #T_37f913c2_4ecd_11ea_94a7_f018988e8c63row6_col2 {\n",
       "            background-color:  #dbe8f2;\n",
       "            color:  #000000;\n",
       "        }    #T_37f913c2_4ecd_11ea_94a7_f018988e8c63row6_col3 {\n",
       "            background-color:  #c1d4e7;\n",
       "            color:  #000000;\n",
       "        }    #T_37f913c2_4ecd_11ea_94a7_f018988e8c63row6_col4 {\n",
       "            background-color:  #a8c3de;\n",
       "            color:  #000000;\n",
       "        }    #T_37f913c2_4ecd_11ea_94a7_f018988e8c63row6_col5 {\n",
       "            background-color:  #c0d4e6;\n",
       "            color:  #000000;\n",
       "        }    #T_37f913c2_4ecd_11ea_94a7_f018988e8c63row6_col6 {\n",
       "            background-color:  #4d004b;\n",
       "            color:  #f1f1f1;\n",
       "        }    #T_37f913c2_4ecd_11ea_94a7_f018988e8c63row6_col7 {\n",
       "            background-color:  #d3e2ef;\n",
       "            color:  #000000;\n",
       "        }    #T_37f913c2_4ecd_11ea_94a7_f018988e8c63row6_col8 {\n",
       "            background-color:  #d8e6f0;\n",
       "            color:  #000000;\n",
       "        }    #T_37f913c2_4ecd_11ea_94a7_f018988e8c63row6_col9 {\n",
       "            background-color:  #f6fbfd;\n",
       "            color:  #000000;\n",
       "        }    #T_37f913c2_4ecd_11ea_94a7_f018988e8c63row7_col0 {\n",
       "            background-color:  #d3e2ef;\n",
       "            color:  #000000;\n",
       "        }    #T_37f913c2_4ecd_11ea_94a7_f018988e8c63row7_col1 {\n",
       "            background-color:  #d3e2ef;\n",
       "            color:  #000000;\n",
       "        }    #T_37f913c2_4ecd_11ea_94a7_f018988e8c63row7_col2 {\n",
       "            background-color:  #d3e2ef;\n",
       "            color:  #000000;\n",
       "        }    #T_37f913c2_4ecd_11ea_94a7_f018988e8c63row7_col3 {\n",
       "            background-color:  #d3e2ef;\n",
       "            color:  #000000;\n",
       "        }    #T_37f913c2_4ecd_11ea_94a7_f018988e8c63row7_col4 {\n",
       "            background-color:  #d3e2ef;\n",
       "            color:  #000000;\n",
       "        }    #T_37f913c2_4ecd_11ea_94a7_f018988e8c63row7_col5 {\n",
       "            background-color:  #d3e2ef;\n",
       "            color:  #000000;\n",
       "        }    #T_37f913c2_4ecd_11ea_94a7_f018988e8c63row7_col6 {\n",
       "            background-color:  #d3e2ef;\n",
       "            color:  #000000;\n",
       "        }    #T_37f913c2_4ecd_11ea_94a7_f018988e8c63row7_col7 {\n",
       "            background-color:  #4d004b;\n",
       "            color:  #f1f1f1;\n",
       "        }    #T_37f913c2_4ecd_11ea_94a7_f018988e8c63row7_col8 {\n",
       "            background-color:  #d3e2ef;\n",
       "            color:  #000000;\n",
       "        }    #T_37f913c2_4ecd_11ea_94a7_f018988e8c63row7_col9 {\n",
       "            background-color:  #d3e2ef;\n",
       "            color:  #000000;\n",
       "        }    #T_37f913c2_4ecd_11ea_94a7_f018988e8c63row8_col0 {\n",
       "            background-color:  #91a0cb;\n",
       "            color:  #000000;\n",
       "        }    #T_37f913c2_4ecd_11ea_94a7_f018988e8c63row8_col1 {\n",
       "            background-color:  #d3e2ef;\n",
       "            color:  #000000;\n",
       "        }    #T_37f913c2_4ecd_11ea_94a7_f018988e8c63row8_col2 {\n",
       "            background-color:  #d7e5f0;\n",
       "            color:  #000000;\n",
       "        }    #T_37f913c2_4ecd_11ea_94a7_f018988e8c63row8_col3 {\n",
       "            background-color:  #ebf4f8;\n",
       "            color:  #000000;\n",
       "        }    #T_37f913c2_4ecd_11ea_94a7_f018988e8c63row8_col4 {\n",
       "            background-color:  #d1e1ee;\n",
       "            color:  #000000;\n",
       "        }    #T_37f913c2_4ecd_11ea_94a7_f018988e8c63row8_col5 {\n",
       "            background-color:  #f6fbfd;\n",
       "            color:  #000000;\n",
       "        }    #T_37f913c2_4ecd_11ea_94a7_f018988e8c63row8_col6 {\n",
       "            background-color:  #d8e6f0;\n",
       "            color:  #000000;\n",
       "        }    #T_37f913c2_4ecd_11ea_94a7_f018988e8c63row8_col7 {\n",
       "            background-color:  #d3e2ef;\n",
       "            color:  #000000;\n",
       "        }    #T_37f913c2_4ecd_11ea_94a7_f018988e8c63row8_col8 {\n",
       "            background-color:  #4d004b;\n",
       "            color:  #f1f1f1;\n",
       "        }    #T_37f913c2_4ecd_11ea_94a7_f018988e8c63row8_col9 {\n",
       "            background-color:  #d3e2ef;\n",
       "            color:  #000000;\n",
       "        }    #T_37f913c2_4ecd_11ea_94a7_f018988e8c63row9_col0 {\n",
       "            background-color:  #d3e2ef;\n",
       "            color:  #000000;\n",
       "        }    #T_37f913c2_4ecd_11ea_94a7_f018988e8c63row9_col1 {\n",
       "            background-color:  #91a0cb;\n",
       "            color:  #000000;\n",
       "        }    #T_37f913c2_4ecd_11ea_94a7_f018988e8c63row9_col2 {\n",
       "            background-color:  #d7e5f0;\n",
       "            color:  #000000;\n",
       "        }    #T_37f913c2_4ecd_11ea_94a7_f018988e8c63row9_col3 {\n",
       "            background-color:  #d1e1ee;\n",
       "            color:  #000000;\n",
       "        }    #T_37f913c2_4ecd_11ea_94a7_f018988e8c63row9_col4 {\n",
       "            background-color:  #ebf4f8;\n",
       "            color:  #000000;\n",
       "        }    #T_37f913c2_4ecd_11ea_94a7_f018988e8c63row9_col5 {\n",
       "            background-color:  #d8e6f0;\n",
       "            color:  #000000;\n",
       "        }    #T_37f913c2_4ecd_11ea_94a7_f018988e8c63row9_col6 {\n",
       "            background-color:  #f6fbfd;\n",
       "            color:  #000000;\n",
       "        }    #T_37f913c2_4ecd_11ea_94a7_f018988e8c63row9_col7 {\n",
       "            background-color:  #d3e2ef;\n",
       "            color:  #000000;\n",
       "        }    #T_37f913c2_4ecd_11ea_94a7_f018988e8c63row9_col8 {\n",
       "            background-color:  #d3e2ef;\n",
       "            color:  #000000;\n",
       "        }    #T_37f913c2_4ecd_11ea_94a7_f018988e8c63row9_col9 {\n",
       "            background-color:  #4d004b;\n",
       "            color:  #f1f1f1;\n",
       "        }</style><table id=\"T_37f913c2_4ecd_11ea_94a7_f018988e8c63\" ><thead>    <tr>        <th class=\"blank level0\" ></th>        <th class=\"col_heading level0 col0\" >MWG</th>        <th class=\"col_heading level0 col1\" >NWG</th>        <th class=\"col_heading level0 col2\" >KWG</th>        <th class=\"col_heading level0 col3\" >MDIMC</th>        <th class=\"col_heading level0 col4\" >NDIMC</th>        <th class=\"col_heading level0 col5\" >MDIMA</th>        <th class=\"col_heading level0 col6\" >NDIMB</th>        <th class=\"col_heading level0 col7\" >KWI</th>        <th class=\"col_heading level0 col8\" >VWM</th>        <th class=\"col_heading level0 col9\" >VWN</th>    </tr></thead><tbody>\n",
       "                <tr>\n",
       "                        <th id=\"T_37f913c2_4ecd_11ea_94a7_f018988e8c63level0_row0\" class=\"row_heading level0 row0\" >MWG</th>\n",
       "                        <td id=\"T_37f913c2_4ecd_11ea_94a7_f018988e8c63row0_col0\" class=\"data row0 col0\" >1</td>\n",
       "                        <td id=\"T_37f913c2_4ecd_11ea_94a7_f018988e8c63row0_col1\" class=\"data row0 col1\" >0.0006</td>\n",
       "                        <td id=\"T_37f913c2_4ecd_11ea_94a7_f018988e8c63row0_col2\" class=\"data row0 col2\" >0.0093</td>\n",
       "                        <td id=\"T_37f913c2_4ecd_11ea_94a7_f018988e8c63row0_col3\" class=\"data row0 col3\" >0.11</td>\n",
       "                        <td id=\"T_37f913c2_4ecd_11ea_94a7_f018988e8c63row0_col4\" class=\"data row0 col4\" >-0.0086</td>\n",
       "                        <td id=\"T_37f913c2_4ecd_11ea_94a7_f018988e8c63row0_col5\" class=\"data row0 col5\" >0.16</td>\n",
       "                        <td id=\"T_37f913c2_4ecd_11ea_94a7_f018988e8c63row0_col6\" class=\"data row0 col6\" >0.015</td>\n",
       "                        <td id=\"T_37f913c2_4ecd_11ea_94a7_f018988e8c63row0_col7\" class=\"data row0 col7\" >0</td>\n",
       "                        <td id=\"T_37f913c2_4ecd_11ea_94a7_f018988e8c63row0_col8\" class=\"data row0 col8\" >0.35</td>\n",
       "                        <td id=\"T_37f913c2_4ecd_11ea_94a7_f018988e8c63row0_col9\" class=\"data row0 col9\" >-0.0008</td>\n",
       "            </tr>\n",
       "            <tr>\n",
       "                        <th id=\"T_37f913c2_4ecd_11ea_94a7_f018988e8c63level0_row1\" class=\"row_heading level0 row1\" >NWG</th>\n",
       "                        <td id=\"T_37f913c2_4ecd_11ea_94a7_f018988e8c63row1_col0\" class=\"data row1 col0\" >0.0006</td>\n",
       "                        <td id=\"T_37f913c2_4ecd_11ea_94a7_f018988e8c63row1_col1\" class=\"data row1 col1\" >1</td>\n",
       "                        <td id=\"T_37f913c2_4ecd_11ea_94a7_f018988e8c63row1_col2\" class=\"data row1 col2\" >0.0093</td>\n",
       "                        <td id=\"T_37f913c2_4ecd_11ea_94a7_f018988e8c63row1_col3\" class=\"data row1 col3\" >-0.0086</td>\n",
       "                        <td id=\"T_37f913c2_4ecd_11ea_94a7_f018988e8c63row1_col4\" class=\"data row1 col4\" >0.11</td>\n",
       "                        <td id=\"T_37f913c2_4ecd_11ea_94a7_f018988e8c63row1_col5\" class=\"data row1 col5\" >0.015</td>\n",
       "                        <td id=\"T_37f913c2_4ecd_11ea_94a7_f018988e8c63row1_col6\" class=\"data row1 col6\" >0.16</td>\n",
       "                        <td id=\"T_37f913c2_4ecd_11ea_94a7_f018988e8c63row1_col7\" class=\"data row1 col7\" >0</td>\n",
       "                        <td id=\"T_37f913c2_4ecd_11ea_94a7_f018988e8c63row1_col8\" class=\"data row1 col8\" >-0.0008</td>\n",
       "                        <td id=\"T_37f913c2_4ecd_11ea_94a7_f018988e8c63row1_col9\" class=\"data row1 col9\" >0.35</td>\n",
       "            </tr>\n",
       "            <tr>\n",
       "                        <th id=\"T_37f913c2_4ecd_11ea_94a7_f018988e8c63level0_row2\" class=\"row_heading level0 row2\" >KWG</th>\n",
       "                        <td id=\"T_37f913c2_4ecd_11ea_94a7_f018988e8c63row2_col0\" class=\"data row2 col0\" >0.0093</td>\n",
       "                        <td id=\"T_37f913c2_4ecd_11ea_94a7_f018988e8c63row2_col1\" class=\"data row2 col1\" >0.0093</td>\n",
       "                        <td id=\"T_37f913c2_4ecd_11ea_94a7_f018988e8c63row2_col2\" class=\"data row2 col2\" >1</td>\n",
       "                        <td id=\"T_37f913c2_4ecd_11ea_94a7_f018988e8c63row2_col3\" class=\"data row2 col3\" >0.15</td>\n",
       "                        <td id=\"T_37f913c2_4ecd_11ea_94a7_f018988e8c63row2_col4\" class=\"data row2 col4\" >0.15</td>\n",
       "                        <td id=\"T_37f913c2_4ecd_11ea_94a7_f018988e8c63row2_col5\" class=\"data row2 col5\" >-0.035</td>\n",
       "                        <td id=\"T_37f913c2_4ecd_11ea_94a7_f018988e8c63row2_col6\" class=\"data row2 col6\" >-0.035</td>\n",
       "                        <td id=\"T_37f913c2_4ecd_11ea_94a7_f018988e8c63row2_col7\" class=\"data row2 col7\" >-0</td>\n",
       "                        <td id=\"T_37f913c2_4ecd_11ea_94a7_f018988e8c63row2_col8\" class=\"data row2 col8\" >-0.012</td>\n",
       "                        <td id=\"T_37f913c2_4ecd_11ea_94a7_f018988e8c63row2_col9\" class=\"data row2 col9\" >-0.012</td>\n",
       "            </tr>\n",
       "            <tr>\n",
       "                        <th id=\"T_37f913c2_4ecd_11ea_94a7_f018988e8c63level0_row3\" class=\"row_heading level0 row3\" >MDIMC</th>\n",
       "                        <td id=\"T_37f913c2_4ecd_11ea_94a7_f018988e8c63row3_col0\" class=\"data row3 col0\" >0.11</td>\n",
       "                        <td id=\"T_37f913c2_4ecd_11ea_94a7_f018988e8c63row3_col1\" class=\"data row3 col1\" >-0.0086</td>\n",
       "                        <td id=\"T_37f913c2_4ecd_11ea_94a7_f018988e8c63row3_col2\" class=\"data row3 col2\" >0.15</td>\n",
       "                        <td id=\"T_37f913c2_4ecd_11ea_94a7_f018988e8c63row3_col3\" class=\"data row3 col3\" >1</td>\n",
       "                        <td id=\"T_37f913c2_4ecd_11ea_94a7_f018988e8c63row3_col4\" class=\"data row3 col4\" >-0.21</td>\n",
       "                        <td id=\"T_37f913c2_4ecd_11ea_94a7_f018988e8c63row3_col5\" class=\"data row3 col5\" >0.2</td>\n",
       "                        <td id=\"T_37f913c2_4ecd_11ea_94a7_f018988e8c63row3_col6\" class=\"data row3 col6\" >0.085</td>\n",
       "                        <td id=\"T_37f913c2_4ecd_11ea_94a7_f018988e8c63row3_col7\" class=\"data row3 col7\" >-0</td>\n",
       "                        <td id=\"T_37f913c2_4ecd_11ea_94a7_f018988e8c63row3_col8\" class=\"data row3 col8\" >-0.13</td>\n",
       "                        <td id=\"T_37f913c2_4ecd_11ea_94a7_f018988e8c63row3_col9\" class=\"data row3 col9\" >0.011</td>\n",
       "            </tr>\n",
       "            <tr>\n",
       "                        <th id=\"T_37f913c2_4ecd_11ea_94a7_f018988e8c63level0_row4\" class=\"row_heading level0 row4\" >NDIMC</th>\n",
       "                        <td id=\"T_37f913c2_4ecd_11ea_94a7_f018988e8c63row4_col0\" class=\"data row4 col0\" >-0.0086</td>\n",
       "                        <td id=\"T_37f913c2_4ecd_11ea_94a7_f018988e8c63row4_col1\" class=\"data row4 col1\" >0.11</td>\n",
       "                        <td id=\"T_37f913c2_4ecd_11ea_94a7_f018988e8c63row4_col2\" class=\"data row4 col2\" >0.15</td>\n",
       "                        <td id=\"T_37f913c2_4ecd_11ea_94a7_f018988e8c63row4_col3\" class=\"data row4 col3\" >-0.21</td>\n",
       "                        <td id=\"T_37f913c2_4ecd_11ea_94a7_f018988e8c63row4_col4\" class=\"data row4 col4\" >1</td>\n",
       "                        <td id=\"T_37f913c2_4ecd_11ea_94a7_f018988e8c63row4_col5\" class=\"data row4 col5\" >0.085</td>\n",
       "                        <td id=\"T_37f913c2_4ecd_11ea_94a7_f018988e8c63row4_col6\" class=\"data row4 col6\" >0.2</td>\n",
       "                        <td id=\"T_37f913c2_4ecd_11ea_94a7_f018988e8c63row4_col7\" class=\"data row4 col7\" >-0</td>\n",
       "                        <td id=\"T_37f913c2_4ecd_11ea_94a7_f018988e8c63row4_col8\" class=\"data row4 col8\" >0.011</td>\n",
       "                        <td id=\"T_37f913c2_4ecd_11ea_94a7_f018988e8c63row4_col9\" class=\"data row4 col9\" >-0.13</td>\n",
       "            </tr>\n",
       "            <tr>\n",
       "                        <th id=\"T_37f913c2_4ecd_11ea_94a7_f018988e8c63level0_row5\" class=\"row_heading level0 row5\" >MDIMA</th>\n",
       "                        <td id=\"T_37f913c2_4ecd_11ea_94a7_f018988e8c63row5_col0\" class=\"data row5 col0\" >0.16</td>\n",
       "                        <td id=\"T_37f913c2_4ecd_11ea_94a7_f018988e8c63row5_col1\" class=\"data row5 col1\" >0.015</td>\n",
       "                        <td id=\"T_37f913c2_4ecd_11ea_94a7_f018988e8c63row5_col2\" class=\"data row5 col2\" >-0.035</td>\n",
       "                        <td id=\"T_37f913c2_4ecd_11ea_94a7_f018988e8c63row5_col3\" class=\"data row5 col3\" >0.2</td>\n",
       "                        <td id=\"T_37f913c2_4ecd_11ea_94a7_f018988e8c63row5_col4\" class=\"data row5 col4\" >0.085</td>\n",
       "                        <td id=\"T_37f913c2_4ecd_11ea_94a7_f018988e8c63row5_col5\" class=\"data row5 col5\" >1</td>\n",
       "                        <td id=\"T_37f913c2_4ecd_11ea_94a7_f018988e8c63row5_col6\" class=\"data row5 col6\" >0.088</td>\n",
       "                        <td id=\"T_37f913c2_4ecd_11ea_94a7_f018988e8c63row5_col7\" class=\"data row5 col7\" >-0</td>\n",
       "                        <td id=\"T_37f913c2_4ecd_11ea_94a7_f018988e8c63row5_col8\" class=\"data row5 col8\" >-0.2</td>\n",
       "                        <td id=\"T_37f913c2_4ecd_11ea_94a7_f018988e8c63row5_col9\" class=\"data row5 col9\" >-0.019</td>\n",
       "            </tr>\n",
       "            <tr>\n",
       "                        <th id=\"T_37f913c2_4ecd_11ea_94a7_f018988e8c63level0_row6\" class=\"row_heading level0 row6\" >NDIMB</th>\n",
       "                        <td id=\"T_37f913c2_4ecd_11ea_94a7_f018988e8c63row6_col0\" class=\"data row6 col0\" >0.015</td>\n",
       "                        <td id=\"T_37f913c2_4ecd_11ea_94a7_f018988e8c63row6_col1\" class=\"data row6 col1\" >0.16</td>\n",
       "                        <td id=\"T_37f913c2_4ecd_11ea_94a7_f018988e8c63row6_col2\" class=\"data row6 col2\" >-0.035</td>\n",
       "                        <td id=\"T_37f913c2_4ecd_11ea_94a7_f018988e8c63row6_col3\" class=\"data row6 col3\" >0.085</td>\n",
       "                        <td id=\"T_37f913c2_4ecd_11ea_94a7_f018988e8c63row6_col4\" class=\"data row6 col4\" >0.2</td>\n",
       "                        <td id=\"T_37f913c2_4ecd_11ea_94a7_f018988e8c63row6_col5\" class=\"data row6 col5\" >0.088</td>\n",
       "                        <td id=\"T_37f913c2_4ecd_11ea_94a7_f018988e8c63row6_col6\" class=\"data row6 col6\" >1</td>\n",
       "                        <td id=\"T_37f913c2_4ecd_11ea_94a7_f018988e8c63row6_col7\" class=\"data row6 col7\" >-0</td>\n",
       "                        <td id=\"T_37f913c2_4ecd_11ea_94a7_f018988e8c63row6_col8\" class=\"data row6 col8\" >-0.019</td>\n",
       "                        <td id=\"T_37f913c2_4ecd_11ea_94a7_f018988e8c63row6_col9\" class=\"data row6 col9\" >-0.2</td>\n",
       "            </tr>\n",
       "            <tr>\n",
       "                        <th id=\"T_37f913c2_4ecd_11ea_94a7_f018988e8c63level0_row7\" class=\"row_heading level0 row7\" >KWI</th>\n",
       "                        <td id=\"T_37f913c2_4ecd_11ea_94a7_f018988e8c63row7_col0\" class=\"data row7 col0\" >0</td>\n",
       "                        <td id=\"T_37f913c2_4ecd_11ea_94a7_f018988e8c63row7_col1\" class=\"data row7 col1\" >0</td>\n",
       "                        <td id=\"T_37f913c2_4ecd_11ea_94a7_f018988e8c63row7_col2\" class=\"data row7 col2\" >-0</td>\n",
       "                        <td id=\"T_37f913c2_4ecd_11ea_94a7_f018988e8c63row7_col3\" class=\"data row7 col3\" >-0</td>\n",
       "                        <td id=\"T_37f913c2_4ecd_11ea_94a7_f018988e8c63row7_col4\" class=\"data row7 col4\" >-0</td>\n",
       "                        <td id=\"T_37f913c2_4ecd_11ea_94a7_f018988e8c63row7_col5\" class=\"data row7 col5\" >-0</td>\n",
       "                        <td id=\"T_37f913c2_4ecd_11ea_94a7_f018988e8c63row7_col6\" class=\"data row7 col6\" >-0</td>\n",
       "                        <td id=\"T_37f913c2_4ecd_11ea_94a7_f018988e8c63row7_col7\" class=\"data row7 col7\" >1</td>\n",
       "                        <td id=\"T_37f913c2_4ecd_11ea_94a7_f018988e8c63row7_col8\" class=\"data row7 col8\" >-0</td>\n",
       "                        <td id=\"T_37f913c2_4ecd_11ea_94a7_f018988e8c63row7_col9\" class=\"data row7 col9\" >-0</td>\n",
       "            </tr>\n",
       "            <tr>\n",
       "                        <th id=\"T_37f913c2_4ecd_11ea_94a7_f018988e8c63level0_row8\" class=\"row_heading level0 row8\" >VWM</th>\n",
       "                        <td id=\"T_37f913c2_4ecd_11ea_94a7_f018988e8c63row8_col0\" class=\"data row8 col0\" >0.35</td>\n",
       "                        <td id=\"T_37f913c2_4ecd_11ea_94a7_f018988e8c63row8_col1\" class=\"data row8 col1\" >-0.0008</td>\n",
       "                        <td id=\"T_37f913c2_4ecd_11ea_94a7_f018988e8c63row8_col2\" class=\"data row8 col2\" >-0.012</td>\n",
       "                        <td id=\"T_37f913c2_4ecd_11ea_94a7_f018988e8c63row8_col3\" class=\"data row8 col3\" >-0.13</td>\n",
       "                        <td id=\"T_37f913c2_4ecd_11ea_94a7_f018988e8c63row8_col4\" class=\"data row8 col4\" >0.011</td>\n",
       "                        <td id=\"T_37f913c2_4ecd_11ea_94a7_f018988e8c63row8_col5\" class=\"data row8 col5\" >-0.2</td>\n",
       "                        <td id=\"T_37f913c2_4ecd_11ea_94a7_f018988e8c63row8_col6\" class=\"data row8 col6\" >-0.019</td>\n",
       "                        <td id=\"T_37f913c2_4ecd_11ea_94a7_f018988e8c63row8_col7\" class=\"data row8 col7\" >-0</td>\n",
       "                        <td id=\"T_37f913c2_4ecd_11ea_94a7_f018988e8c63row8_col8\" class=\"data row8 col8\" >1</td>\n",
       "                        <td id=\"T_37f913c2_4ecd_11ea_94a7_f018988e8c63row8_col9\" class=\"data row8 col9\" >0.0012</td>\n",
       "            </tr>\n",
       "            <tr>\n",
       "                        <th id=\"T_37f913c2_4ecd_11ea_94a7_f018988e8c63level0_row9\" class=\"row_heading level0 row9\" >VWN</th>\n",
       "                        <td id=\"T_37f913c2_4ecd_11ea_94a7_f018988e8c63row9_col0\" class=\"data row9 col0\" >-0.0008</td>\n",
       "                        <td id=\"T_37f913c2_4ecd_11ea_94a7_f018988e8c63row9_col1\" class=\"data row9 col1\" >0.35</td>\n",
       "                        <td id=\"T_37f913c2_4ecd_11ea_94a7_f018988e8c63row9_col2\" class=\"data row9 col2\" >-0.012</td>\n",
       "                        <td id=\"T_37f913c2_4ecd_11ea_94a7_f018988e8c63row9_col3\" class=\"data row9 col3\" >0.011</td>\n",
       "                        <td id=\"T_37f913c2_4ecd_11ea_94a7_f018988e8c63row9_col4\" class=\"data row9 col4\" >-0.13</td>\n",
       "                        <td id=\"T_37f913c2_4ecd_11ea_94a7_f018988e8c63row9_col5\" class=\"data row9 col5\" >-0.019</td>\n",
       "                        <td id=\"T_37f913c2_4ecd_11ea_94a7_f018988e8c63row9_col6\" class=\"data row9 col6\" >-0.2</td>\n",
       "                        <td id=\"T_37f913c2_4ecd_11ea_94a7_f018988e8c63row9_col7\" class=\"data row9 col7\" >-0</td>\n",
       "                        <td id=\"T_37f913c2_4ecd_11ea_94a7_f018988e8c63row9_col8\" class=\"data row9 col8\" >0.0012</td>\n",
       "                        <td id=\"T_37f913c2_4ecd_11ea_94a7_f018988e8c63row9_col9\" class=\"data row9 col9\" >1</td>\n",
       "            </tr>\n",
       "    </tbody></table>"
      ],
      "text/plain": [
       "<pandas.io.formats.style.Styler at 0x1a236e0090>"
      ]
     },
     "execution_count": 204,
     "metadata": {},
     "output_type": "execute_result"
    }
   ],
   "source": [
    "corr = df.iloc[:,0:10].corr().round(4)\n",
    "corr.style.background_gradient(cmap='BuPu', axis= None).set_precision(2)"
   ]
  },
  {
   "cell_type": "code",
   "execution_count": null,
   "metadata": {},
   "outputs": [],
   "source": [
    "import random\n",
    "k = random.sample(range(0, 15), 8)\n",
    "\n",
    "# defining feature matrix(X) and response vector(y) \n",
    "X = gpu.iloc[:,0:8]\n",
    "y = gpu[\"avg_run\"]\n",
    "  \n",
    "\n",
    "\n",
    "# splitting X and y into training and testing sets \n",
    "from sklearn.model_selection import train_test_split \n",
    "from sklearn.linear_model import LinearRegression\n",
    "X_train, X_test, y_train, y_test = train_test_split(X, y, test_size=0.3, \n",
    "                                                    random_state=1) \n",
    "\n",
    "from sklearn.preprocessing import StandardScaler\n",
    "scaler = StandardScaler()\n",
    "X_train = scaler.fit_transform(X_train)\n",
    "\n",
    "X_test = scaler.fit_transform(X_test)\n",
    "one_column = np.ones((X_test.shape[0],1))\n",
    "X_test = np.concatenate((one_column, X_test), axis = 1)\n",
    "\n",
    "y_test = np.array(y_test).reshape((y_test.shape[0],1))"
   ]
  },
  {
   "cell_type": "code",
   "execution_count": null,
   "metadata": {},
   "outputs": [],
   "source": [
    "print(\"The best alpha is 0.1\")\n",
    "print(\"The best tolerance value is 10^-4\")"
   ]
  },
  {
   "cell_type": "code",
   "execution_count": null,
   "metadata": {},
   "outputs": [],
   "source": [
    "alpha = 0.1\n",
    "tolerance = 10**-4\n",
    "theta_8, trainCost_8, testCost_8 = linear_regression(X_train, y_train,alpha , 10000, True, 10**-4)"
   ]
  },
  {
   "cell_type": "code",
   "execution_count": null,
   "metadata": {},
   "outputs": [],
   "source": [
    "# Prediction for Train and RMSE Train\n",
    "\n",
    "one_column = np.ones((X_train.shape[0],1))\n",
    "training_set = np.concatenate((one_column, X_train), axis = 1)\n",
    "\n",
    "y_train_pred8 = test(training_set,theta_8)\n",
    "rmse_train8 = np.sqrt(metrics.mean_squared_error(y_train, y_train_pred8))"
   ]
  },
  {
   "cell_type": "code",
   "execution_count": null,
   "metadata": {},
   "outputs": [],
   "source": [
    "y_test = np.array(y_test).reshape((y_test.shape[0],1))\n",
    "y_test_pred8 = test(X_test,theta_8)\n",
    "rmse_test8 = np.sqrt(metrics.mean_squared_error(y_test, y_test_pred8))"
   ]
  },
  {
   "cell_type": "code",
   "execution_count": null,
   "metadata": {},
   "outputs": [],
   "source": [
    "print(rmse_train8)\n",
    "print(rmse_test8)"
   ]
  },
  {
   "cell_type": "code",
   "execution_count": null,
   "metadata": {},
   "outputs": [],
   "source": [
    "best_features = [0,1,2,3,4,7,12,13]"
   ]
  },
  {
   "cell_type": "code",
   "execution_count": null,
   "metadata": {},
   "outputs": [],
   "source": [
    "# defining feature matrix(X) and response vector(y) \n",
    "X = df.iloc[:,best_features]\n",
    "y = df[\"avg_run\"]\n",
    "  \n",
    "\n",
    "\n",
    "# splitting X and y into training and testing sets \n",
    "from sklearn.model_selection import train_test_split \n",
    "from sklearn.linear_model import LinearRegression\n",
    "X_train, X_test, y_train, y_test = train_test_split(X, y, test_size=0.3, \n",
    "                                                    random_state=1) \n",
    "\n",
    "from sklearn.preprocessing import StandardScaler\n",
    "scaler = StandardScaler()\n",
    "X_train = scaler.fit_transform(X_train)\n",
    "\n",
    "X_test = scaler.fit_transform(X_test)\n",
    "one_column = np.ones((X_test.shape[0],1))\n",
    "X_test = np.concatenate((one_column, X_test), axis = 1)\n",
    "\n",
    "y_test = np.array(y_test).reshape((y_test.shape[0],1))"
   ]
  },
  {
   "cell_type": "code",
   "execution_count": null,
   "metadata": {},
   "outputs": [],
   "source": [
    "print(\"The best alpha is 0.1\")\n",
    "print(\"The best tolerance value is 10^-4\")"
   ]
  },
  {
   "cell_type": "code",
   "execution_count": null,
   "metadata": {},
   "outputs": [],
   "source": [
    "alpha = 0.1\n",
    "tolerance = 10**-4\n",
    "theta_best, trainCost_best, testCost_best = linear_regression(X_train, y_train,alpha , 10000, True, 10**-4)"
   ]
  },
  {
   "cell_type": "code",
   "execution_count": null,
   "metadata": {},
   "outputs": [],
   "source": [
    "# Prediction for Train and RMSE Train\n",
    "\n",
    "one_column = np.ones((X_train.shape[0],1))\n",
    "training_set = np.concatenate((one_column, X_train), axis = 1)\n",
    "\n",
    "y_train_pred_best = test(training_set,theta_best)\n",
    "rmse_train_best = np.sqrt(metrics.mean_squared_error(y_train, y_train_pred_best))"
   ]
  },
  {
   "cell_type": "code",
   "execution_count": null,
   "metadata": {},
   "outputs": [],
   "source": [
    "y_test = np.array(y_test).reshape((y_test.shape[0],1))\n",
    "y_test_pred_best = test(X_test,theta_8)\n",
    "rmse_test_best = np.sqrt(metrics.mean_squared_error(y_test, y_test_pred_best))"
   ]
  },
  {
   "cell_type": "code",
   "execution_count": null,
   "metadata": {},
   "outputs": [],
   "source": [
    "print(rmse_test_best)\n",
    "print(rmse_train_best)"
   ]
  }
 ],
 "metadata": {
  "kernelspec": {
   "display_name": "Python 3",
   "language": "python",
   "name": "python3"
  },
  "language_info": {
   "codemirror_mode": {
    "name": "ipython",
    "version": 3
   },
   "file_extension": ".py",
   "mimetype": "text/x-python",
   "name": "python",
   "nbconvert_exporter": "python",
   "pygments_lexer": "ipython3",
   "version": "3.7.4"
  }
 },
 "nbformat": 4,
 "nbformat_minor": 2
}
